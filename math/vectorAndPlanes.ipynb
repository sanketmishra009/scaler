{
 "cells": [
  {
   "cell_type": "code",
   "execution_count": 7,
   "id": "39e1031b",
   "metadata": {},
   "outputs": [],
   "source": [
    "import numpy as np\n",
    "import pandas as pd\n",
    "import matplotlib.pyplot as plt\n",
    "import seaborn as sns\n",
    "import scipy.stats as stats"
   ]
  },
  {
   "cell_type": "code",
   "execution_count": 17,
   "id": "83fa81de",
   "metadata": {},
   "outputs": [
    {
     "name": "stdout",
     "output_type": "stream",
     "text": [
      "--2025-04-28 10:02:32--  https://d2beiqkhq929f0.cloudfront.net/public_assets/assets/000/030/385/original/fruits.csv?1680749521\n",
      "Resolving d2beiqkhq929f0.cloudfront.net (d2beiqkhq929f0.cloudfront.net)... 18.67.224.230, 18.67.224.203, 18.67.224.109, ...\n",
      "Connecting to d2beiqkhq929f0.cloudfront.net (d2beiqkhq929f0.cloudfront.net)|18.67.224.230|:443... connected.\n",
      "HTTP request sent, awaiting response... 200 OK\n",
      "Length: 219 [text/plain]\n",
      "Saving to: ‘fruits.csv’\n",
      "\n",
      "fruits.csv          100%[===================>]     219  --.-KB/s    in 0s      \n",
      "\n",
      "2025-04-28 10:02:33 (13.1 MB/s) - ‘fruits.csv’ saved [219/219]\n",
      "\n"
     ]
    }
   ],
   "source": [
    "!wget https://d2beiqkhq929f0.cloudfront.net/public_assets/assets/000/030/385/original/fruits.csv?1680749521 -O fruits.csv\n",
    "!mv fruits.csv ../data/"
   ]
  },
  {
   "cell_type": "code",
   "execution_count": 18,
   "id": "1131e16b",
   "metadata": {},
   "outputs": [
    {
     "data": {
      "text/html": [
       "<div>\n",
       "<style scoped>\n",
       "    .dataframe tbody tr th:only-of-type {\n",
       "        vertical-align: middle;\n",
       "    }\n",
       "\n",
       "    .dataframe tbody tr th {\n",
       "        vertical-align: top;\n",
       "    }\n",
       "\n",
       "    .dataframe thead th {\n",
       "        text-align: right;\n",
       "    }\n",
       "</style>\n",
       "<table border=\"1\" class=\"dataframe\">\n",
       "  <thead>\n",
       "    <tr style=\"text-align: right;\">\n",
       "      <th></th>\n",
       "      <th>weight</th>\n",
       "      <th>diameter</th>\n",
       "      <th>color</th>\n",
       "      <th>fruit</th>\n",
       "    </tr>\n",
       "  </thead>\n",
       "  <tbody>\n",
       "    <tr>\n",
       "      <th>0</th>\n",
       "      <td>4.0</td>\n",
       "      <td>3.0</td>\n",
       "      <td>orange</td>\n",
       "      <td>trangerine</td>\n",
       "    </tr>\n",
       "    <tr>\n",
       "      <th>1</th>\n",
       "      <td>4.2</td>\n",
       "      <td>4.0</td>\n",
       "      <td>orange</td>\n",
       "      <td>trangerine</td>\n",
       "    </tr>\n",
       "    <tr>\n",
       "      <th>2</th>\n",
       "      <td>3.8</td>\n",
       "      <td>3.5</td>\n",
       "      <td>orange</td>\n",
       "      <td>trangerine</td>\n",
       "    </tr>\n",
       "    <tr>\n",
       "      <th>3</th>\n",
       "      <td>4.5</td>\n",
       "      <td>3.8</td>\n",
       "      <td>orange</td>\n",
       "      <td>trangerine</td>\n",
       "    </tr>\n",
       "    <tr>\n",
       "      <th>4</th>\n",
       "      <td>2.8</td>\n",
       "      <td>5.0</td>\n",
       "      <td>orange</td>\n",
       "      <td>orange</td>\n",
       "    </tr>\n",
       "  </tbody>\n",
       "</table>\n",
       "</div>"
      ],
      "text/plain": [
       "   weight  diameter   color       fruit\n",
       "0     4.0       3.0  orange  trangerine\n",
       "1     4.2       4.0  orange  trangerine\n",
       "2     3.8       3.5  orange  trangerine\n",
       "3     4.5       3.8  orange  trangerine\n",
       "4     2.8       5.0  orange      orange"
      ]
     },
     "execution_count": 18,
     "metadata": {},
     "output_type": "execute_result"
    }
   ],
   "source": [
    "df = pd.read_csv('../data/fruits.csv')\n",
    "df.head()"
   ]
  },
  {
   "cell_type": "code",
   "execution_count": 19,
   "id": "27ad0835",
   "metadata": {},
   "outputs": [
    {
     "name": "stdout",
     "output_type": "stream",
     "text": [
      "<class 'pandas.core.frame.DataFrame'>\n",
      "RangeIndex: 8 entries, 0 to 7\n",
      "Data columns (total 4 columns):\n",
      " #   Column    Non-Null Count  Dtype  \n",
      "---  ------    --------------  -----  \n",
      " 0   weight    8 non-null      float64\n",
      " 1   diameter  8 non-null      float64\n",
      " 2   color     8 non-null      object \n",
      " 3   fruit     8 non-null      object \n",
      "dtypes: float64(2), object(2)\n",
      "memory usage: 388.0+ bytes\n"
     ]
    }
   ],
   "source": [
    "df.info()"
   ]
  },
  {
   "cell_type": "code",
   "execution_count": 23,
   "id": "61519cc3",
   "metadata": {},
   "outputs": [
    {
     "data": {
      "image/png": "[encoded data removed]",
      "text/plain": [
       "<Figure size 640x480 with 2 Axes>"
      ]
     },
     "metadata": {},
     "output_type": "display_data"
    }
   ],
   "source": [
    "fig , axes = plt.subplots(1,2)\n",
    "plt.sca(axes[0])\n",
    "sns.scatterplot(df , x = 'weight' , y = 'diameter' , hue = 'fruit')\n",
    "plt.sca(axes[1])\n",
    "# sns.scatterplot(df , x = 'weight' , y = 'height' , hue = 'fruit')"
   ]
  },
  {
   "cell_type": "code",
   "execution_count": null,
   "id": "2198e75d",
   "metadata": {},
   "outputs": [],
   "source": [
    "from ipywidgets import interactive\n",
    "\n",
    "def plot_line(m, c):\n",
    "    x = np.linspace(2, 5, num=100)  # generate x values\n",
    "    y = m*x + c  # calculate y values\n",
    "    # plt.plot(x, y)  # plot the line\n",
    "    sns.scatterplot(x='weight', y = 'diameter', hue='fruit', data=df)\n",
    "    plt.plot(x, y)  # plot the line\n",
    "    # plt.ylim(-50, 50)  # set y-axis limits\n",
    "    plt.xlabel('x')\n",
    "    plt.ylabel('y')\n",
    "    plt.title(f'y = {m}x + {c}')\n",
    "    plt.show()\n",
    "\n",
    "interactive_plot = interactive(plot_line, m=(-1, 5, 0.1), c=(-5, 5, 1))\n",
    "interactive_plot"
   ]
  },
  {
   "cell_type": "code",
   "execution_count": null,
   "id": "2d0b50d9",
   "metadata": {},
   "outputs": [],
   "source": []
  }
 ],
 "metadata": {
  "kernelspec": {
   "display_name": "tensorflow",
   "language": "python",
   "name": "python3"
  },
  "language_info": {
   "codemirror_mode": {
    "name": "ipython",
    "version": 3
   },
   "file_extension": ".py",
   "mimetype": "text/x-python",
   "name": "python",
   "nbconvert_exporter": "python",
   "pygments_lexer": "ipython3",
   "version": "3.11.9"
  }
 },
 "nbformat": 4,
 "nbformat_minor": 5
}
