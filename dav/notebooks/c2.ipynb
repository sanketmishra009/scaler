{
 "cells": [
  {
   "cell_type": "code",
   "execution_count": 2,
   "metadata": {},
   "outputs": [],
   "source": [
    "import numpy as np"
   ]
  },
  {
   "cell_type": "code",
   "execution_count": 3,
   "metadata": {},
   "outputs": [
    {
     "data": {
      "text/plain": [
       "array([[1, 2],\n",
       "       [3, 4]])"
      ]
     },
     "execution_count": 3,
     "metadata": {},
     "output_type": "execute_result"
    }
   ],
   "source": [
    "l = [1,2,3,4]\n",
    "np.array(l).reshape(2, -1)"
   ]
  },
  {
   "cell_type": "code",
   "execution_count": 4,
   "metadata": {},
   "outputs": [
    {
     "data": {
      "text/plain": [
       "(array([[1, 2, 3, 4]]), (1, 4))"
      ]
     },
     "execution_count": 4,
     "metadata": {},
     "output_type": "execute_result"
    }
   ],
   "source": [
    "x = np.array(l).reshape(1 , -1)\n",
    "x , x.shape"
   ]
  },
  {
   "cell_type": "code",
   "execution_count": 5,
   "metadata": {},
   "outputs": [
    {
     "name": "stdout",
     "output_type": "stream",
     "text": [
      "\u001b[0;31mCall signature:\u001b[0m  \u001b[0mnp\u001b[0m\u001b[0;34m.\u001b[0m\u001b[0mwhere\u001b[0m\u001b[0;34m(\u001b[0m\u001b[0;34m*\u001b[0m\u001b[0margs\u001b[0m\u001b[0;34m,\u001b[0m \u001b[0;34m**\u001b[0m\u001b[0mkwargs\u001b[0m\u001b[0;34m)\u001b[0m\u001b[0;34m\u001b[0m\u001b[0;34m\u001b[0m\u001b[0m\n",
      "\u001b[0;31mType:\u001b[0m            _ArrayFunctionDispatcher\n",
      "\u001b[0;31mString form:\u001b[0m     <built-in function where>\n",
      "\u001b[0;31mDocstring:\u001b[0m      \n",
      "where(condition, [x, y], /)\n",
      "\n",
      "Return elements chosen from `x` or `y` depending on `condition`.\n",
      "\n",
      ".. note::\n",
      "    When only `condition` is provided, this function is a shorthand for\n",
      "    ``np.asarray(condition).nonzero()``. Using `nonzero` directly should be\n",
      "    preferred, as it behaves correctly for subclasses. The rest of this\n",
      "    documentation covers only the case where all three arguments are\n",
      "    provided.\n",
      "\n",
      "Parameters\n",
      "----------\n",
      "condition : array_like, bool\n",
      "    Where True, yield `x`, otherwise yield `y`.\n",
      "x, y : array_like\n",
      "    Values from which to choose. `x`, `y` and `condition` need to be\n",
      "    broadcastable to some shape.\n",
      "\n",
      "Returns\n",
      "-------\n",
      "out : ndarray\n",
      "    An array with elements from `x` where `condition` is True, and elements\n",
      "    from `y` elsewhere.\n",
      "\n",
      "See Also\n",
      "--------\n",
      "choose\n",
      "nonzero : The function that is called when x and y are omitted\n",
      "\n",
      "Notes\n",
      "-----\n",
      "If all the arrays are 1-D, `where` is equivalent to::\n",
      "\n",
      "    [xv if c else yv\n",
      "     for c, xv, yv in zip(condition, x, y)]\n",
      "\n",
      "Examples\n",
      "--------\n",
      ">>> a = np.arange(10)\n",
      ">>> a\n",
      "array([0, 1, 2, 3, 4, 5, 6, 7, 8, 9])\n",
      ">>> np.where(a < 5, a, 10*a)\n",
      "array([ 0,  1,  2,  3,  4, 50, 60, 70, 80, 90])\n",
      "\n",
      "This can be used on multidimensional arrays too:\n",
      "\n",
      ">>> np.where([[True, False], [True, True]],\n",
      "...          [[1, 2], [3, 4]],\n",
      "...          [[9, 8], [7, 6]])\n",
      "array([[1, 8],\n",
      "       [3, 4]])\n",
      "\n",
      "The shapes of x, y, and the condition are broadcast together:\n",
      "\n",
      ">>> x, y = np.ogrid[:3, :4]\n",
      ">>> np.where(x < y, x, 10 + y)  # both x and 10+y are broadcast\n",
      "array([[10,  0,  0,  0],\n",
      "       [10, 11,  1,  1],\n",
      "       [10, 11, 12,  2]])\n",
      "\n",
      ">>> a = np.array([[0, 1, 2],\n",
      "...               [0, 2, 4],\n",
      "...               [0, 3, 6]])\n",
      ">>> np.where(a < 4, a, -1)  # -1 is broadcast\n",
      "array([[ 0,  1,  2],\n",
      "       [ 0,  2, -1],\n",
      "       [ 0,  3, -1]])\n",
      "\u001b[0;31mClass docstring:\u001b[0m\n",
      "Class to wrap functions with checks for __array_function__ overrides.\n",
      "\n",
      "All arguments are required, and can only be passed by position.\n",
      "\n",
      "Parameters\n",
      "----------\n",
      "dispatcher : function or None\n",
      "    The dispatcher function that returns a single sequence-like object\n",
      "    of all arguments relevant.  It must have the same signature (except\n",
      "    the default values) as the actual implementation.\n",
      "    If ``None``, this is a ``like=`` dispatcher and the\n",
      "    ``_ArrayFunctionDispatcher`` must be called with ``like`` as the\n",
      "    first (additional and positional) argument.\n",
      "implementation : function\n",
      "    Function that implements the operation on NumPy arrays without\n",
      "    overrides.  Arguments passed calling the ``_ArrayFunctionDispatcher``\n",
      "    will be forwarded to this (and the ``dispatcher``) as if using\n",
      "    ``*args, **kwargs``.\n",
      "\n",
      "Attributes\n",
      "----------\n",
      "_implementation : function\n",
      "    The original implementation passed in."
     ]
    }
   ],
   "source": [
    "np.where?"
   ]
  },
  {
   "cell_type": "code",
   "execution_count": 6,
   "metadata": {},
   "outputs": [
    {
     "data": {
      "text/plain": [
       "array([[0, 1, 2],\n",
       "       [3, 4, 5]])"
      ]
     },
     "execution_count": 6,
     "metadata": {},
     "output_type": "execute_result"
    }
   ],
   "source": [
    "a = np.arange(6).reshape(2, 3)\n",
    "a"
   ]
  },
  {
   "cell_type": "code",
   "execution_count": 7,
   "metadata": {},
   "outputs": [
    {
     "data": {
      "text/plain": [
       "array([0, 1, 2, 3, 4, 5])"
      ]
     },
     "execution_count": 7,
     "metadata": {},
     "output_type": "execute_result"
    }
   ],
   "source": [
    "a.reshape(6,)"
   ]
  },
  {
   "cell_type": "code",
   "execution_count": 8,
   "metadata": {},
   "outputs": [
    {
     "data": {
      "text/plain": [
       "array([[0],\n",
       "       [1],\n",
       "       [2],\n",
       "       [3],\n",
       "       [4],\n",
       "       [5]])"
      ]
     },
     "execution_count": 8,
     "metadata": {},
     "output_type": "execute_result"
    }
   ],
   "source": [
    "a.reshape(6,-1)"
   ]
  },
  {
   "cell_type": "code",
   "execution_count": 9,
   "metadata": {},
   "outputs": [
    {
     "name": "stdout",
     "output_type": "stream",
     "text": [
      "Votes (Array): [ 775  787  918   88  166  286 2556  324  504  402]\n",
      "Costs (Array): [\"'800.0'\" \"'800.0'\" \"'800.0'\" \"'300.0'\" \"'600.0'\" \"'600.0'\" \"'600.0'\"\n",
      " \"'700.0'\" \"'550.0'\" \"'500.0'\"]\n",
      "Ratings (Array): [4.1 3.8 4.  2.6 1.1 3.5 4.7 2.5 2.8 3.4]\n"
     ]
    }
   ],
   "source": [
    "# Extracting numeric data as NumPy arrays for future analysis\n",
    "votes = np.array([ 775,  787,  918,   88,  166,  286, 2556,  324,  504,  402])\n",
    "costs = np.array([\"'800.0'\" ,\"'800.0'\", \"'800.0'\", \"'300.0'\", \"'600.0'\", \"'600.0'\", \"'600.0'\", \"'700.0'\" ,\"'550.0'\", \"'500.0'\"])\n",
    "rate = np.array([4.1, 3.8, 4.0, 2.6, 1.1, 3.5, 4.7, 2.5, 2.8, 3.4])\n",
    "\n",
    "\n",
    "print(\"Votes (Array):\", votes)\n",
    "print(\"Costs (Array):\", costs)\n",
    "print(\"Ratings (Array):\", rate)"
   ]
  },
  {
   "cell_type": "code",
   "execution_count": 10,
   "metadata": {},
   "outputs": [
    {
     "data": {
      "text/plain": [
       "array([800., 800., 800., 300., 600., 600., 600., 700., 550., 500.])"
      ]
     },
     "execution_count": 10,
     "metadata": {},
     "output_type": "execute_result"
    }
   ],
   "source": [
    "costs = np.char.replace(costs , \"'\" , \"\")\n",
    "costs = costs.astype(float)\n",
    "costs"
   ]
  },
  {
   "cell_type": "code",
   "execution_count": 11,
   "metadata": {},
   "outputs": [],
   "source": [
    "np.set_printoptions(suppress = True , precision=2)"
   ]
  },
  {
   "cell_type": "code",
   "execution_count": 12,
   "metadata": {},
   "outputs": [
    {
     "data": {
      "text/plain": [
       "array([[   4.1,  775. ,  800. ],\n",
       "       [   3.8,  787. ,  800. ],\n",
       "       [   4. ,  918. ,  800. ],\n",
       "       [   2.6,   88. ,  300. ],\n",
       "       [   1.1,  166. ,  600. ],\n",
       "       [   3.5,  286. ,  600. ],\n",
       "       [   4.7, 2556. ,  600. ],\n",
       "       [   2.5,  324. ,  700. ],\n",
       "       [   2.8,  504. ,  550. ],\n",
       "       [   3.4,  402. ,  500. ]])"
      ]
     },
     "execution_count": 12,
     "metadata": {},
     "output_type": "execute_result"
    }
   ],
   "source": [
    "data = np.column_stack((rate , votes, costs))\n",
    "data"
   ]
  },
  {
   "cell_type": "markdown",
   "metadata": {},
   "source": [
    "# sorting in numpy\n"
   ]
  },
  {
   "cell_type": "markdown",
   "metadata": {},
   "source": [
    "#### np.sort(arr) -> returns the sorted array\n",
    "\n",
    "#### np.argsort(arr) -> returns indices of the sorted array\n"
   ]
  },
  {
   "cell_type": "code",
   "execution_count": 13,
   "metadata": {},
   "outputs": [
    {
     "data": {
      "text/plain": [
       "array([300., 500., 550., 600., 600., 600., 700., 800., 800., 800.])"
      ]
     },
     "execution_count": 13,
     "metadata": {},
     "output_type": "execute_result"
    }
   ],
   "source": [
    "np.sort(costs)"
   ]
  },
  {
   "cell_type": "code",
   "execution_count": 14,
   "metadata": {},
   "outputs": [
    {
     "data": {
      "text/plain": [
       "array([3, 9, 8, 4, 5, 6, 7, 0, 1, 2])"
      ]
     },
     "execution_count": 14,
     "metadata": {},
     "output_type": "execute_result"
    }
   ],
   "source": [
    "np.argsort(costs)"
   ]
  },
  {
   "cell_type": "markdown",
   "metadata": {},
   "source": [
    "### sorting in 2d array\n"
   ]
  },
  {
   "cell_type": "code",
   "execution_count": 15,
   "metadata": {},
   "outputs": [
    {
     "data": {
      "text/plain": [
       "array([[   1.1,   88. ,  300. ],\n",
       "       [   2.5,  166. ,  500. ],\n",
       "       [   2.6,  286. ,  550. ],\n",
       "       [   2.8,  324. ,  600. ],\n",
       "       [   3.4,  402. ,  600. ],\n",
       "       [   3.5,  504. ,  600. ],\n",
       "       [   3.8,  775. ,  700. ],\n",
       "       [   4. ,  787. ,  800. ],\n",
       "       [   4.1,  918. ,  800. ],\n",
       "       [   4.7, 2556. ,  800. ]])"
      ]
     },
     "execution_count": 15,
     "metadata": {},
     "output_type": "execute_result"
    }
   ],
   "source": [
    "np.sort(data, axis = 0) #sorts columns"
   ]
  },
  {
   "cell_type": "code",
   "execution_count": 16,
   "metadata": {},
   "outputs": [
    {
     "data": {
      "text/plain": [
       "array([[   4.1,  775. ,  800. ],\n",
       "       [   3.8,  787. ,  800. ],\n",
       "       [   4. ,  800. ,  918. ],\n",
       "       [   2.6,   88. ,  300. ],\n",
       "       [   1.1,  166. ,  600. ],\n",
       "       [   3.5,  286. ,  600. ],\n",
       "       [   4.7,  600. , 2556. ],\n",
       "       [   2.5,  324. ,  700. ],\n",
       "       [   2.8,  504. ,  550. ],\n",
       "       [   3.4,  402. ,  500. ]])"
      ]
     },
     "execution_count": 16,
     "metadata": {},
     "output_type": "execute_result"
    }
   ],
   "source": [
    "np.sort(data , axis = 1) #sorts rows"
   ]
  },
  {
   "cell_type": "markdown",
   "metadata": {},
   "source": [
    "## vectorizing functions\n"
   ]
  },
  {
   "cell_type": "code",
   "execution_count": 17,
   "metadata": {},
   "outputs": [
    {
     "data": {
      "text/plain": [
       "array([720., 800., 720., 300., 600., 600., 540., 700., 550., 500.])"
      ]
     },
     "execution_count": 17,
     "metadata": {},
     "output_type": "execute_result"
    }
   ],
   "source": [
    "def discouts(rating , costs):\n",
    "    if(rating >= 4.0):\n",
    "        return 0.9 * costs\n",
    "    else:\n",
    "        return costs\n",
    "dvectorized = np.vectorize(discouts)\n",
    "dvectorized(rate , costs)"
   ]
  },
  {
   "cell_type": "code",
   "execution_count": null,
   "metadata": {},
   "outputs": [],
   "source": []
  },
  {
   "cell_type": "code",
   "execution_count": 18,
   "metadata": {},
   "outputs": [
    {
     "data": {
      "text/plain": [
       "(array([[ 0,  1,  2],\n",
       "        [ 3,  4,  5],\n",
       "        [ 6,  7,  8],\n",
       "        [ 9, 10, 11]]),\n",
       " array([0, 1, 2]),\n",
       " array([[0, 1, 2],\n",
       "        [3, 4, 5]]))"
      ]
     },
     "execution_count": 18,
     "metadata": {},
     "output_type": "execute_result"
    }
   ],
   "source": [
    "a  = np.arange(12).reshape(4, 3)\n",
    "b = np.arange(3).reshape(3,)\n",
    "c = np.arange(6).reshape(2, 3)\n",
    "a ,b , c"
   ]
  },
  {
   "cell_type": "code",
   "execution_count": 19,
   "metadata": {},
   "outputs": [
    {
     "data": {
      "text/plain": [
       "array([[ 0,  2,  4],\n",
       "       [ 3,  5,  7],\n",
       "       [ 6,  8, 10],\n",
       "       [ 9, 11, 13]])"
      ]
     },
     "execution_count": 19,
     "metadata": {},
     "output_type": "execute_result"
    }
   ],
   "source": [
    "a + b"
   ]
  },
  {
   "cell_type": "markdown",
   "metadata": {},
   "source": [
    "## Broadcasting\n"
   ]
  },
  {
   "cell_type": "markdown",
   "metadata": {},
   "source": [
    "#### row broadcasting\n"
   ]
  },
  {
   "cell_type": "code",
   "execution_count": 20,
   "metadata": {},
   "outputs": [
    {
     "data": {
      "text/plain": [
       "(array([[0, 1, 2],\n",
       "        [3, 4, 5]]),\n",
       " array([100, 100, 100]))"
      ]
     },
     "execution_count": 20,
     "metadata": {},
     "output_type": "execute_result"
    }
   ],
   "source": [
    "a = np.arange(6).reshape(2, 3)\n",
    "b = np.full(3, 100)\n",
    "a , b"
   ]
  },
  {
   "cell_type": "code",
   "execution_count": 21,
   "metadata": {},
   "outputs": [
    {
     "data": {
      "text/plain": [
       "array([[100, 101, 102],\n",
       "       [103, 104, 105]])"
      ]
     },
     "execution_count": 21,
     "metadata": {},
     "output_type": "execute_result"
    }
   ],
   "source": [
    "a + b"
   ]
  },
  {
   "cell_type": "markdown",
   "metadata": {},
   "source": [
    "### col broadcasting\n"
   ]
  },
  {
   "cell_type": "code",
   "execution_count": 22,
   "metadata": {},
   "outputs": [
    {
     "name": "stdout",
     "output_type": "stream",
     "text": [
      "a=array([[ 0,  1,  2,  3],\n",
      "       [ 4,  5,  6,  7],\n",
      "       [ 8,  9, 10, 11],\n",
      "       [12, 13, 14, 15],\n",
      "       [16, 17, 18, 19]]) , \n",
      " b=array([[100],\n",
      "       [100],\n",
      "       [100],\n",
      "       [100],\n",
      "       [100]]) ,  \n",
      " a + b=array([[100, 101, 102, 103],\n",
      "       [104, 105, 106, 107],\n",
      "       [108, 109, 110, 111],\n",
      "       [112, 113, 114, 115],\n",
      "       [116, 117, 118, 119]])\n"
     ]
    }
   ],
   "source": [
    "a = np.arange(20).reshape(5,4)\n",
    "b = np.full(5, 100).reshape(5, 1)\n",
    "print(f'{a=} , \\n {b=} ,  \\n {a + b=}')"
   ]
  },
  {
   "cell_type": "markdown",
   "metadata": {},
   "source": [
    "### row and col broadcasting\n"
   ]
  },
  {
   "cell_type": "code",
   "execution_count": 23,
   "metadata": {},
   "outputs": [
    {
     "name": "stdout",
     "output_type": "stream",
     "text": [
      "a=array([[0],\n",
      "       [1],\n",
      "       [2],\n",
      "       [3]]) ,\n",
      " b=array([0, 1, 2, 3, 4]) ,\n",
      " a + b=array([[0, 1, 2, 3, 4],\n",
      "       [1, 2, 3, 4, 5],\n",
      "       [2, 3, 4, 5, 6],\n",
      "       [3, 4, 5, 6, 7]])\n"
     ]
    }
   ],
   "source": [
    "a = np.arange(4).reshape(4, 1)\n",
    "b = np.arange(5)\n",
    "print(f\"{a=} ,\\n {b=} ,\\n {a + b=}\")"
   ]
  },
  {
   "cell_type": "code",
   "execution_count": 24,
   "metadata": {},
   "outputs": [
    {
     "name": "stdout",
     "output_type": "stream",
     "text": [
      "array1=array([[1, 2, 3]]) ,\n",
      " array2=array([[10],\n",
      "       [20],\n",
      "       [30]]) ,\n",
      " array1 + array2=array([[11, 12, 13],\n",
      "       [21, 22, 23],\n",
      "       [31, 32, 33]])\n"
     ]
    },
    {
     "data": {
      "text/plain": [
       "((1, 3), (3, 1))"
      ]
     },
     "execution_count": 24,
     "metadata": {},
     "output_type": "execute_result"
    }
   ],
   "source": [
    "array1 = np.array([[1, 2, 3]])\n",
    "array2 = np.array([[10], [20], [30]])\n",
    "print(f\"{array1=} ,\\n {array2=} ,\\n {array1 + array2=}\")\n",
    "array1.shape , array2.shape"
   ]
  },
  {
   "cell_type": "code",
   "execution_count": 25,
   "metadata": {},
   "outputs": [
    {
     "data": {
      "text/plain": [
       "array([[0, 1, 2],\n",
       "       [3, 4, 5]])"
      ]
     },
     "execution_count": 25,
     "metadata": {},
     "output_type": "execute_result"
    }
   ],
   "source": [
    "a = np.arange(6).reshape(2,3)\n",
    "a"
   ]
  },
  {
   "cell_type": "code",
   "execution_count": 26,
   "metadata": {},
   "outputs": [
    {
     "data": {
      "text/plain": [
       "array([[0, 1, 2, 0, 1, 2, 0, 1, 2, 0, 1, 2],\n",
       "       [3, 4, 5, 3, 4, 5, 3, 4, 5, 3, 4, 5],\n",
       "       [0, 1, 2, 0, 1, 2, 0, 1, 2, 0, 1, 2],\n",
       "       [3, 4, 5, 3, 4, 5, 3, 4, 5, 3, 4, 5],\n",
       "       [0, 1, 2, 0, 1, 2, 0, 1, 2, 0, 1, 2],\n",
       "       [3, 4, 5, 3, 4, 5, 3, 4, 5, 3, 4, 5],\n",
       "       [0, 1, 2, 0, 1, 2, 0, 1, 2, 0, 1, 2],\n",
       "       [3, 4, 5, 3, 4, 5, 3, 4, 5, 3, 4, 5]])"
      ]
     },
     "execution_count": 26,
     "metadata": {},
     "output_type": "execute_result"
    }
   ],
   "source": [
    "np.tile(a , [4,4])"
   ]
  },
  {
   "cell_type": "code",
   "execution_count": 28,
   "metadata": {},
   "outputs": [
    {
     "data": {
      "text/plain": [
       "array([[1., 1., 1., 1., 1.],\n",
       "       [1., 0., 0., 0., 1.],\n",
       "       [1., 0., 0., 0., 1.],\n",
       "       [1., 0., 0., 0., 1.],\n",
       "       [1., 1., 1., 1., 1.]])"
      ]
     },
     "execution_count": 28,
     "metadata": {},
     "output_type": "execute_result"
    }
   ],
   "source": [
    "x = np.ones((5,5))\n",
    "x[1:-1,1:-1] = 0\n",
    "x"
   ]
  },
  {
   "cell_type": "code",
   "execution_count": 34,
   "metadata": {},
   "outputs": [
    {
     "data": {
      "text/plain": [
       "array([[ 0,  1,  2,  3],\n",
       "       [ 4,  5,  6,  7],\n",
       "       [ 8,  9, 10, 11],\n",
       "       [12, 13, 14, 15],\n",
       "       [16, 17, 18, 19],\n",
       "       [20, 21, 22, 23]])"
      ]
     },
     "execution_count": 34,
     "metadata": {},
     "output_type": "execute_result"
    }
   ],
   "source": [
    "a = np.arange(24).reshape(6,4)\n",
    "a"
   ]
  },
  {
   "cell_type": "code",
   "execution_count": 35,
   "metadata": {},
   "outputs": [
    {
     "data": {
      "text/plain": [
       "(array([60, 66, 72, 78]), array([ 6, 22, 38, 54, 70, 86]))"
      ]
     },
     "execution_count": 35,
     "metadata": {},
     "output_type": "execute_result"
    }
   ],
   "source": [
    "a.sum(0) , a.sum(1)"
   ]
  },
  {
   "cell_type": "code",
   "execution_count": 39,
   "metadata": {},
   "outputs": [
    {
     "data": {
      "text/plain": [
       "([array([[ 0,  1,  2,  3],\n",
       "         [ 4,  5,  6,  7],\n",
       "         [ 8,  9, 10, 11]]),\n",
       "  array([[12, 13, 14, 15],\n",
       "         [16, 17, 18, 19],\n",
       "         [20, 21, 22, 23]])],\n",
       " [array([[ 0,  1,  2,  3],\n",
       "         [ 4,  5,  6,  7],\n",
       "         [ 8,  9, 10, 11]]),\n",
       "  array([[12, 13, 14, 15],\n",
       "         [16, 17, 18, 19],\n",
       "         [20, 21, 22, 23]])],\n",
       " [array([[ 0,  1],\n",
       "         [ 4,  5],\n",
       "         [ 8,  9],\n",
       "         [12, 13],\n",
       "         [16, 17],\n",
       "         [20, 21]]),\n",
       "  array([[ 2,  3],\n",
       "         [ 6,  7],\n",
       "         [10, 11],\n",
       "         [14, 15],\n",
       "         [18, 19],\n",
       "         [22, 23]])])"
      ]
     },
     "execution_count": 39,
     "metadata": {},
     "output_type": "execute_result"
    }
   ],
   "source": [
    "np.split(a , 2) , np.vsplit(a , 2) , np.hsplit(a , 2)"
   ]
  },
  {
   "cell_type": "code",
   "execution_count": 37,
   "metadata": {},
   "outputs": [
    {
     "data": {
      "text/plain": [
       "[array([[0, 1, 2, 3],\n",
       "        [4, 5, 6, 7]]),\n",
       " array([[ 8,  9, 10, 11],\n",
       "        [12, 13, 14, 15]]),\n",
       " array([[16, 17, 18, 19],\n",
       "        [20, 21, 22, 23]])]"
      ]
     },
     "execution_count": 37,
     "metadata": {},
     "output_type": "execute_result"
    }
   ],
   "source": [
    "np.split(a , [2 , 4])"
   ]
  },
  {
   "cell_type": "code",
   "execution_count": 40,
   "metadata": {},
   "outputs": [
    {
     "name": "stdout",
     "output_type": "stream",
     "text": [
      "['Astha' 'Raghavendra' 'Ram']\n"
     ]
    }
   ],
   "source": [
    "import numpy as np\n",
    "print(np.sort(np.array(['Ram','Astha','Raghavendra'])))"
   ]
  },
  {
   "cell_type": "code",
   "execution_count": 41,
   "metadata": {},
   "outputs": [
    {
     "data": {
      "text/plain": [
       "array([False, False, False])"
      ]
     },
     "execution_count": 41,
     "metadata": {},
     "output_type": "execute_result"
    }
   ],
   "source": [
    "arr1 = np.array(['Ram','Astha','Brahat'])\n",
    "arr2 = np.array(['Shyam','Kalyan','Naveen'])\n",
    "arr1 > arr2"
   ]
  },
  {
   "cell_type": "code",
   "execution_count": 42,
   "metadata": {},
   "outputs": [],
   "source": [
    "import numpy as np\n",
    "arr = np.array([[1,2,3],\n",
    "               [4,5,6],\n",
    "               [7,8,9]])"
   ]
  },
  {
   "cell_type": "code",
   "execution_count": 45,
   "metadata": {},
   "outputs": [
    {
     "data": {
      "text/plain": [
       "array([[1, 2, 3, 1],\n",
       "       [4, 5, 6, 4],\n",
       "       [7, 8, 9, 7]])"
      ]
     },
     "execution_count": 45,
     "metadata": {},
     "output_type": "execute_result"
    }
   ],
   "source": [
    "np.hstack((arr , arr[:,[0]]))"
   ]
  },
  {
   "cell_type": "code",
   "execution_count": 48,
   "metadata": {},
   "outputs": [
    {
     "data": {
      "text/plain": [
       "((3,), (3, 1))"
      ]
     },
     "execution_count": 48,
     "metadata": {},
     "output_type": "execute_result"
    }
   ],
   "source": [
    "arr[:,0].shape , arr[:,[0]].shape"
   ]
  },
  {
   "cell_type": "code",
   "execution_count": 49,
   "metadata": {},
   "outputs": [],
   "source": [
    "birds = ['spoonbills',  'plovers',  'plovers',  'plovers',  'plovers',  'Cranes',  'plovers',  'plovers',  'Cranes',  'spoonbills']\n",
    "age = [5.5, 6.0, 3.5, 1.5, 3.0, 4.0, 3.5, 2.0, 5.5, 6.0]"
   ]
  },
  {
   "cell_type": "code",
   "execution_count": 50,
   "metadata": {},
   "outputs": [
    {
     "data": {
      "text/plain": [
       "array([3, 7, 4, 2, 6, 5, 0, 8, 1, 9])"
      ]
     },
     "execution_count": 50,
     "metadata": {},
     "output_type": "execute_result"
    }
   ],
   "source": [
    "sorted_age = np.argsort(age)\n",
    "sorted_age"
   ]
  },
  {
   "cell_type": "code",
   "execution_count": 54,
   "metadata": {},
   "outputs": [
    {
     "data": {
      "text/plain": [
       "array(['plovers', 'plovers', 'plovers', 'plovers', 'plovers', 'Cranes',\n",
       "       'spoonbills', 'Cranes', 'plovers', 'spoonbills'], dtype='<U10')"
      ]
     },
     "execution_count": 54,
     "metadata": {},
     "output_type": "execute_result"
    }
   ],
   "source": [
    "np.array(birds)[sorted_age]"
   ]
  },
  {
   "cell_type": "code",
   "execution_count": 55,
   "metadata": {},
   "outputs": [
    {
     "data": {
      "text/plain": [
       "array([ 1,  1, -1, -1, -1, -1, -1, -1,  1,  1])"
      ]
     },
     "execution_count": 55,
     "metadata": {},
     "output_type": "execute_result"
    }
   ],
   "source": [
    "np.where(np.array(age) > 4.0 , 1 , -1)"
   ]
  },
  {
   "cell_type": "code",
   "execution_count": 57,
   "metadata": {},
   "outputs": [
    {
     "data": {
      "text/plain": [
       "array([[1],\n",
       "       [4],\n",
       "       [7]])"
      ]
     },
     "execution_count": 57,
     "metadata": {},
     "output_type": "execute_result"
    }
   ],
   "source": [
    "arr[:,[0]]"
   ]
  },
  {
   "cell_type": "code",
   "execution_count": 59,
   "metadata": {},
   "outputs": [
    {
     "data": {
      "text/plain": [
       "(2, 3, 3)"
      ]
     },
     "execution_count": 59,
     "metadata": {},
     "output_type": "execute_result"
    }
   ],
   "source": [
    "arr = np.array([[[ 0, 1, 2],\n",
    "        [ 3, 4, 5], \n",
    "        [ 6, 7, 8]], \n",
    "\n",
    "        [[ 9, 10, 11], \n",
    "         [12, 13, 14], \n",
    "         [15, 16, 17]]])\n",
    "arr.shape"
   ]
  },
  {
   "cell_type": "code",
   "execution_count": 60,
   "metadata": {},
   "outputs": [
    {
     "data": {
      "text/plain": [
       "array([[ 9, 10, 11],\n",
       "       [12, 13, 14],\n",
       "       [15, 16, 17]])"
      ]
     },
     "execution_count": 60,
     "metadata": {},
     "output_type": "execute_result"
    }
   ],
   "source": [
    "arr[1,:,:]"
   ]
  },
  {
   "cell_type": "code",
   "execution_count": 61,
   "metadata": {},
   "outputs": [
    {
     "name": "stdout",
     "output_type": "stream",
     "text": [
      "[[10 11 12 13]\n",
      " [14 15 16 17]\n",
      " [18 19 20 21]]\n"
     ]
    }
   ],
   "source": [
    "import numpy as np\n",
    "a = np.arange(10,22).reshape((3, 4))\n",
    "print(a)"
   ]
  },
  {
   "cell_type": "code",
   "execution_count": 84,
   "metadata": {},
   "outputs": [
    {
     "data": {
      "text/plain": [
       "array([[ 2,  3,  4,  5],\n",
       "       [ 1,  7,  3,  5],\n",
       "       [ 2,  8,  6,  9],\n",
       "       [11, 23, 12, 19]])"
      ]
     },
     "execution_count": 84,
     "metadata": {},
     "output_type": "execute_result"
    }
   ],
   "source": [
    "import numpy as np\n",
    "arr= np.array([[2,3,4,5],[1,7,3,5],[2,8,6,9],[11,23,12,19]])\n",
    "arr"
   ]
  },
  {
   "cell_type": "code",
   "execution_count": 85,
   "metadata": {},
   "outputs": [
    {
     "data": {
      "text/plain": [
       "array([[ 4,  6,  8, 10],\n",
       "       [ 2, 14,  6, 10],\n",
       "       [ 4, 16, 12, 18],\n",
       "       [22, 46, 24, 38]])"
      ]
     },
     "execution_count": 85,
     "metadata": {},
     "output_type": "execute_result"
    }
   ],
   "source": [
    "arr1 = np.array([[2,2,2,2]])\n",
    "def func(x, y):\n",
    "    return x * y\n",
    "vec = np.vectorize(func)\n",
    "vec(arr,arr1)"
   ]
  },
  {
   "cell_type": "code",
   "execution_count": 86,
   "metadata": {},
   "outputs": [
    {
     "data": {
      "text/plain": [
       "array([[ 4,  6,  8, 10],\n",
       "       [ 2, 14,  6, 10],\n",
       "       [ 4, 16, 12, 18],\n",
       "       [22, 46, 24, 38]])"
      ]
     },
     "execution_count": 86,
     "metadata": {},
     "output_type": "execute_result"
    }
   ],
   "source": [
    "arr1 = np.array([[2],[2],[2],[2]])\n",
    "def func(x, y):\n",
    "    return x * y\n",
    "vec = np.vectorize(func)\n",
    "vec(arr, arr1)"
   ]
  },
  {
   "cell_type": "code",
   "execution_count": 87,
   "metadata": {},
   "outputs": [
    {
     "data": {
      "text/plain": [
       "array([[ 4,  6,  8, 10],\n",
       "       [ 2, 14,  6, 10],\n",
       "       [ 4, 16, 12, 18],\n",
       "       [22, 46, 24, 38]])"
      ]
     },
     "execution_count": 87,
     "metadata": {},
     "output_type": "execute_result"
    }
   ],
   "source": [
    "arr1 = 2\n",
    "def func(x, y):\n",
    "    return x * y\n",
    "vec = np.vectorize(func)\n",
    "vec(arr, arr1)"
   ]
  },
  {
   "cell_type": "code",
   "execution_count": 88,
   "metadata": {},
   "outputs": [
    {
     "data": {
      "text/plain": [
       "(array([[ 2,  3,  4,  5],\n",
       "        [ 1,  7,  3,  5],\n",
       "        [ 2,  8,  6,  9],\n",
       "        [11, 23, 12, 19]]),\n",
       " (4, 4))"
      ]
     },
     "execution_count": 88,
     "metadata": {},
     "output_type": "execute_result"
    }
   ],
   "source": [
    "arr, arr.shape"
   ]
  },
  {
   "cell_type": "code",
   "execution_count": 89,
   "metadata": {},
   "outputs": [
    {
     "name": "stdout",
     "output_type": "stream",
     "text": [
      "(6, 6)\n"
     ]
    },
    {
     "data": {
      "text/plain": [
       "array([[ 0.,  0.,  0.,  0.,  0.,  0.],\n",
       "       [ 0.,  2.,  3.,  4.,  5.,  0.],\n",
       "       [ 0.,  1.,  7.,  3.,  5.,  0.],\n",
       "       [ 0.,  2.,  8.,  6.,  9.,  0.],\n",
       "       [ 0., 11., 23., 12., 19.,  0.],\n",
       "       [ 0.,  0.,  0.,  0.,  0.,  0.]])"
      ]
     },
     "execution_count": 89,
     "metadata": {},
     "output_type": "execute_result"
    }
   ],
   "source": [
    "def fn(arr):\n",
    "    temp = np.zeros((arr.shape[0]+2, arr.shape[1]+2))\n",
    "    print(temp.shape)\n",
    "    temp[1:-1 , 1:-1] = arr\n",
    "    return temp\n",
    "fn(arr)"
   ]
  },
  {
   "cell_type": "code",
   "execution_count": 90,
   "metadata": {},
   "outputs": [
    {
     "data": {
      "text/plain": [
       "array([[ 10,  20,  30],\n",
       "       [ 40,  50,  60],\n",
       "       [ 70,  80,  90],\n",
       "       [100, 110, 120]])"
      ]
     },
     "execution_count": 90,
     "metadata": {},
     "output_type": "execute_result"
    }
   ],
   "source": [
    "data = np.array([[10, 20, 30],\n",
    "                 [40, 50, 60],\n",
    "                 [70, 80, 90],\n",
    "                 [100, 110, 120]])\n",
    "data"
   ]
  },
  {
   "cell_type": "code",
   "execution_count": 114,
   "metadata": {},
   "outputs": [
    {
     "name": "stdout",
     "output_type": "stream",
     "text": [
      "[[ 10  20  30]\n",
      " [ 40  50  60]\n",
      " [ 70  80  90]\n",
      " [100 110 120]]\n",
      "(1, 3) (3, 3)\n"
     ]
    },
    {
     "data": {
      "text/plain": [
       "array([[100, 110, 120],\n",
       "       [ 10,  20,  30],\n",
       "       [ 40,  50,  60],\n",
       "       [ 70,  80,  90]])"
      ]
     },
     "execution_count": 114,
     "metadata": {},
     "output_type": "execute_result"
    }
   ],
   "source": [
    "def fn(data , nsplits = 0):\n",
    "    splits = np.vsplit(data , nsplits)\n",
    "    # print(np.array(splits)[:-1])\n",
    "    x = np.array(splits[-1])\n",
    "    y = np.array(splits[:-1]).reshape(-1 , x.shape[1])\n",
    "    print(x.shape , y.shape)\n",
    "    temp = np.vstack((x, y))\n",
    "    return temp\n",
    "print(data)\n",
    "fn(data , 4)"
   ]
  },
  {
   "cell_type": "markdown",
   "metadata": {},
   "source": [
    "### Given a array of bird names and another array with corresponding ages of the birds, find the name of the oldest bird in the list.\n"
   ]
  },
  {
   "cell_type": "code",
   "execution_count": 135,
   "metadata": {},
   "outputs": [],
   "source": [
    "birds = ['parrot', 'owl', 'macaw', 'macaw', 'owl', 'owl', 'macaw', 'macaw', 'sparrow', 'owl', 'sparrow', 'parrot', 'macaw', 'peacock', 'sparrow', 'macaw', 'peacock', 'owl', 'owl', 'parrot']\n",
    "ages = [8, 1, 12, 13, 13, 8, 11, 7, 6, 1, 7, 4, 12, 6, 1, 8, 14, 13, 14, 1]"
   ]
  },
  {
   "cell_type": "code",
   "execution_count": 133,
   "metadata": {},
   "outputs": [],
   "source": [
    "birds = ['sparrow', 'peacock', 'parrot', 'owl', 'peacock', 'macaw', 'macaw', 'parrot', 'macaw', 'peacock']  \n",
    "ages = [6, 1, 6, 5, 7, 6, 0, 9, 0, 7]"
   ]
  },
  {
   "cell_type": "code",
   "execution_count": 132,
   "metadata": {},
   "outputs": [],
   "source": [
    "def fn(birds , ages):\n",
    "    max_age = np.argmax(ages)\n",
    "    birds = np.array(birds)\n",
    "    ages = np.array(ages)\n",
    "    return birds[np.where(ages == np.max(ages))][0]"
   ]
  },
  {
   "cell_type": "code",
   "execution_count": 136,
   "metadata": {},
   "outputs": [
    {
     "data": {
      "text/plain": [
       "'peacock'"
      ]
     },
     "execution_count": 136,
     "metadata": {},
     "output_type": "execute_result"
    }
   ],
   "source": [
    "fn(birds , ages)"
   ]
  },
  {
   "cell_type": "code",
   "execution_count": null,
   "metadata": {},
   "outputs": [],
   "source": []
  }
 ],
 "metadata": {
  "kernelspec": {
   "display_name": "tensorflow",
   "language": "python",
   "name": "python3"
  },
  "language_info": {
   "codemirror_mode": {
    "name": "ipython",
    "version": 3
   },
   "file_extension": ".py",
   "mimetype": "text/x-python",
   "name": "python",
   "nbconvert_exporter": "python",
   "pygments_lexer": "ipython3",
   "version": "3.11.9"
  }
 },
 "nbformat": 4,
 "nbformat_minor": 2
}
