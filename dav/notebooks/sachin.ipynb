{
 "cells": [
  {
   "cell_type": "code",
   "execution_count": 2,
   "metadata": {},
   "outputs": [],
   "source": [
    "#!wget https://d2beiqkhq929f0.cloudfront.net/public_assets/assets/000/101/397/original/Sachin_ODI.csv -P ../data"
   ]
  },
  {
   "cell_type": "code",
   "execution_count": 30,
   "metadata": {},
   "outputs": [],
   "source": [
    "import pandas as pd\n",
    "import numpy as np\n",
    "import seaborn as sns\n",
    "import matplotlib.pyplot as plt\n",
    "np.set_printoptions(precision = True , suppress = True)"
   ]
  },
  {
   "cell_type": "code",
   "execution_count": 31,
   "metadata": {},
   "outputs": [
    {
     "data": {
      "text/html": [
       "<div>\n",
       "<style scoped>\n",
       "    .dataframe tbody tr th:only-of-type {\n",
       "        vertical-align: middle;\n",
       "    }\n",
       "\n",
       "    .dataframe tbody tr th {\n",
       "        vertical-align: top;\n",
       "    }\n",
       "\n",
       "    .dataframe thead th {\n",
       "        text-align: right;\n",
       "    }\n",
       "</style>\n",
       "<table border=\"1\" class=\"dataframe\">\n",
       "  <thead>\n",
       "    <tr style=\"text-align: right;\">\n",
       "      <th></th>\n",
       "      <th>runs</th>\n",
       "      <th>NotOut</th>\n",
       "      <th>mins</th>\n",
       "      <th>bf</th>\n",
       "      <th>fours</th>\n",
       "      <th>sixes</th>\n",
       "      <th>sr</th>\n",
       "      <th>Inns</th>\n",
       "      <th>Opp</th>\n",
       "      <th>Ground</th>\n",
       "      <th>Date</th>\n",
       "      <th>Winner</th>\n",
       "      <th>Won</th>\n",
       "      <th>century</th>\n",
       "    </tr>\n",
       "  </thead>\n",
       "  <tbody>\n",
       "    <tr>\n",
       "      <th>0</th>\n",
       "      <td>13</td>\n",
       "      <td>0</td>\n",
       "      <td>30</td>\n",
       "      <td>15</td>\n",
       "      <td>3</td>\n",
       "      <td>0</td>\n",
       "      <td>86.66</td>\n",
       "      <td>1</td>\n",
       "      <td>New Zealand</td>\n",
       "      <td>Napier</td>\n",
       "      <td>1995-02-16</td>\n",
       "      <td>New Zealand</td>\n",
       "      <td>False</td>\n",
       "      <td>False</td>\n",
       "    </tr>\n",
       "    <tr>\n",
       "      <th>1</th>\n",
       "      <td>37</td>\n",
       "      <td>0</td>\n",
       "      <td>75</td>\n",
       "      <td>51</td>\n",
       "      <td>3</td>\n",
       "      <td>1</td>\n",
       "      <td>72.54</td>\n",
       "      <td>2</td>\n",
       "      <td>South Africa</td>\n",
       "      <td>Hamilton</td>\n",
       "      <td>1995-02-18</td>\n",
       "      <td>South Africa</td>\n",
       "      <td>False</td>\n",
       "      <td>False</td>\n",
       "    </tr>\n",
       "    <tr>\n",
       "      <th>2</th>\n",
       "      <td>47</td>\n",
       "      <td>0</td>\n",
       "      <td>65</td>\n",
       "      <td>40</td>\n",
       "      <td>7</td>\n",
       "      <td>0</td>\n",
       "      <td>117.50</td>\n",
       "      <td>2</td>\n",
       "      <td>Australia</td>\n",
       "      <td>Dunedin</td>\n",
       "      <td>1995-02-22</td>\n",
       "      <td>India</td>\n",
       "      <td>True</td>\n",
       "      <td>False</td>\n",
       "    </tr>\n",
       "    <tr>\n",
       "      <th>3</th>\n",
       "      <td>48</td>\n",
       "      <td>0</td>\n",
       "      <td>37</td>\n",
       "      <td>30</td>\n",
       "      <td>9</td>\n",
       "      <td>1</td>\n",
       "      <td>160.00</td>\n",
       "      <td>2</td>\n",
       "      <td>Bangladesh</td>\n",
       "      <td>Sharjah</td>\n",
       "      <td>1995-04-05</td>\n",
       "      <td>India</td>\n",
       "      <td>True</td>\n",
       "      <td>False</td>\n",
       "    </tr>\n",
       "    <tr>\n",
       "      <th>4</th>\n",
       "      <td>4</td>\n",
       "      <td>0</td>\n",
       "      <td>13</td>\n",
       "      <td>9</td>\n",
       "      <td>1</td>\n",
       "      <td>0</td>\n",
       "      <td>44.44</td>\n",
       "      <td>2</td>\n",
       "      <td>Pakistan</td>\n",
       "      <td>Sharjah</td>\n",
       "      <td>1995-04-07</td>\n",
       "      <td>Pakistan</td>\n",
       "      <td>False</td>\n",
       "      <td>False</td>\n",
       "    </tr>\n",
       "  </tbody>\n",
       "</table>\n",
       "</div>"
      ],
      "text/plain": [
       "   runs  NotOut mins  bf  fours  sixes      sr  Inns           Opp    Ground  \\\n",
       "0    13       0   30  15      3      0   86.66     1   New Zealand    Napier   \n",
       "1    37       0   75  51      3      1   72.54     2  South Africa  Hamilton   \n",
       "2    47       0   65  40      7      0  117.50     2     Australia   Dunedin   \n",
       "3    48       0   37  30      9      1  160.00     2    Bangladesh   Sharjah   \n",
       "4     4       0   13   9      1      0   44.44     2      Pakistan   Sharjah   \n",
       "\n",
       "         Date        Winner    Won  century  \n",
       "0  1995-02-16   New Zealand  False    False  \n",
       "1  1995-02-18  South Africa  False    False  \n",
       "2  1995-02-22         India   True    False  \n",
       "3  1995-04-05         India   True    False  \n",
       "4  1995-04-07      Pakistan  False    False  "
      ]
     },
     "execution_count": 31,
     "metadata": {},
     "output_type": "execute_result"
    }
   ],
   "source": [
    "sachin = pd.read_csv('../data/Sachin_ODI.csv')\n",
    "sachin.head()"
   ]
  },
  {
   "cell_type": "code",
   "execution_count": 32,
   "metadata": {},
   "outputs": [
    {
     "name": "stdout",
     "output_type": "stream",
     "text": [
      "<class 'pandas.core.frame.DataFrame'>\n",
      "RangeIndex: 360 entries, 0 to 359\n",
      "Data columns (total 14 columns):\n",
      " #   Column   Non-Null Count  Dtype  \n",
      "---  ------   --------------  -----  \n",
      " 0   runs     360 non-null    int64  \n",
      " 1   NotOut   360 non-null    int64  \n",
      " 2   mins     360 non-null    object \n",
      " 3   bf       360 non-null    int64  \n",
      " 4   fours    360 non-null    int64  \n",
      " 5   sixes    360 non-null    int64  \n",
      " 6   sr       360 non-null    float64\n",
      " 7   Inns     360 non-null    int64  \n",
      " 8   Opp      360 non-null    object \n",
      " 9   Ground   360 non-null    object \n",
      " 10  Date     360 non-null    object \n",
      " 11  Winner   360 non-null    object \n",
      " 12  Won      360 non-null    bool   \n",
      " 13  century  360 non-null    bool   \n",
      "dtypes: bool(2), float64(1), int64(6), object(5)\n",
      "memory usage: 34.6+ KB\n"
     ]
    }
   ],
   "source": [
    "sachin.info()"
   ]
  },
  {
   "cell_type": "code",
   "execution_count": 33,
   "metadata": {},
   "outputs": [
    {
     "name": "stdout",
     "output_type": "stream",
     "text": [
      "{0: 14, 1: 15, 2: 16, 3: 8, 4: 10, 5: 8, 6: 8, 7: 9, 8: 9, 9: 4, 10: 4, 11: 6, 12: 5, 13: 3, 14: 6, 15: 3, 16: 4, 17: 6, 18: 7, 19: 3, 20: 2, 21: 4, 22: 1, 23: 2, 24: 1, 25: 3, 26: 1, 27: 6, 28: 6, 29: 3, 30: 4, 31: 2, 32: 5, 33: 1, 34: 1, 35: 4, 36: 3, 37: 4, 38: 4, 39: 6, 40: 4, 41: 4, 42: 1, 43: 2, 44: 4, 45: 5, 46: 1, 47: 3, 48: 3, 49: 1, 50: 2, 51: 1, 52: 2, 53: 3, 54: 2, 55: 2, 57: 2, 60: 1, 61: 2, 62: 3, 63: 2, 64: 1, 65: 6, 67: 3, 68: 2, 69: 2, 70: 2, 71: 1, 72: 1, 74: 1, 77: 1, 78: 1, 79: 1, 80: 1, 81: 2, 82: 2, 83: 1, 85: 2, 86: 1, 87: 1, 88: 1, 89: 2, 90: 1, 91: 2, 93: 5, 94: 1, 95: 2, 96: 1, 97: 2, 98: 1, 99: 3, 100: 6, 101: 2, 102: 1, 104: 1, 105: 1, 110: 1, 111: 1, 112: 1, 113: 1, 114: 2, 117: 2, 118: 2, 120: 2, 122: 2, 123: 1, 124: 1, 127: 2, 128: 1, 134: 1, 137: 1, 138: 1, 139: 1, 140: 1, 141: 3, 143: 1, 146: 2, 152: 1, 163: 1, 175: 1, 186: 1, 200: 1} \n",
      " 122\n"
     ]
    }
   ],
   "source": [
    "runs = sachin['runs']\n",
    "runs , counts = np.unique(runs , return_counts=True)\n",
    "rundict = {run : count for run , count in zip(runs , counts)}\n",
    "print(rundict , '\\n', len(rundict))"
   ]
  },
  {
   "cell_type": "code",
   "execution_count": 41,
   "metadata": {},
   "outputs": [
    {
     "data": {
      "text/plain": [
       "0.20277777777777778"
      ]
     },
     "execution_count": 41,
     "metadata": {},
     "output_type": "execute_result"
    }
   ],
   "source": [
    "#Intersection event -> Scored > 50 and India Won.\n",
    "\n",
    "a = sachin[sachin['runs'] > 50]\n",
    "b = sachin[sachin['Won'] == True]\n",
    "\n",
    "intersection = pd.merge(a , b , how = 'inner')\n",
    "pintersection = len(intersection) / len(sachin)\n",
    "pintersection"
   ]
  },
  {
   "cell_type": "code",
   "execution_count": 52,
   "metadata": {},
   "outputs": [
    {
     "data": {
      "text/plain": [
       "0.20277777777777778"
      ]
     },
     "execution_count": 52,
     "metadata": {},
     "output_type": "execute_result"
    }
   ],
   "source": [
    "#finding probability using filtering:\n",
    "fd = sachin[(sachin['runs'] > 50)&(sachin['Won'] == True)]\n",
    "len(fd)/len(sachin)"
   ]
  },
  {
   "cell_type": "code",
   "execution_count": 42,
   "metadata": {},
   "outputs": [
    {
     "data": {
      "text/plain": [
       "0.6388888888888888"
      ]
     },
     "execution_count": 42,
     "metadata": {},
     "output_type": "execute_result"
    }
   ],
   "source": [
    "# Union event -> score > 50 or India won.\n",
    "\n",
    "union = pd.concat([a , b]).drop_duplicates()\n",
    "len(union) / len(sachin)"
   ]
  },
  {
   "cell_type": "code",
   "execution_count": 50,
   "metadata": {},
   "outputs": [
    {
     "data": {
      "text/plain": [
       "0.6134453781512605"
      ]
     },
     "execution_count": 50,
     "metadata": {},
     "output_type": "execute_result"
    }
   ],
   "source": [
    "#conditional probability -> p(India won | scored > 50)\n",
    "condition = sachin[sachin['runs'] > 50]\n",
    "c = condition[condition['Won'] == True]\n",
    "# p(b | a)\n",
    "pbga = len(c)/len(a)\n",
    "pbga"
   ]
  },
  {
   "cell_type": "code",
   "execution_count": 49,
   "metadata": {},
   "outputs": [
    {
     "data": {
      "text/plain": [
       "0.20277777777777778"
      ]
     },
     "execution_count": 49,
     "metadata": {},
     "output_type": "execute_result"
    }
   ],
   "source": [
    "#multiplication rule p(a and b) = p(a | b) * p(b)\n",
    "pbga * (len(a) / len(sachin))"
   ]
  },
  {
   "cell_type": "code",
   "execution_count": 56,
   "metadata": {},
   "outputs": [
    {
     "data": {
      "text/plain": [
       "0.3865546218487395"
      ]
     },
     "execution_count": 56,
     "metadata": {},
     "output_type": "execute_result"
    }
   ],
   "source": [
    "#prob of scoring a century given scored > 50\n",
    "condition = sachin[sachin['runs'] > 50]\n",
    "cga = condition[condition['century'] == True]\n",
    "len(cga) / len(condition)"
   ]
  },
  {
   "cell_type": "code",
   "execution_count": 57,
   "metadata": {},
   "outputs": [
    {
     "data": {
      "text/plain": [
       "0.12777777777777777"
      ]
     },
     "execution_count": 57,
     "metadata": {},
     "output_type": "execute_result"
    }
   ],
   "source": [
    "len(sachin[(sachin['runs'] > 50) & (sachin['century'] == True)]) / len(sachin)"
   ]
  },
  {
   "cell_type": "code",
   "execution_count": 59,
   "metadata": {},
   "outputs": [
    {
     "data": {
      "text/plain": [
       "0.17647058823529413"
      ]
     },
     "execution_count": 59,
     "metadata": {},
     "output_type": "execute_result"
    }
   ],
   "source": [
    "a = sachin[sachin['century'] == True]\n",
    "b = sachin[sachin['Inns'] == 1]\n",
    "agb = b[b['century'] == True]\n",
    "len(agb)/ len(b)"
   ]
  },
  {
   "cell_type": "code",
   "execution_count": 60,
   "metadata": {},
   "outputs": [
    {
     "data": {
      "text/plain": [
       "0.1764705882352941"
      ]
     },
     "execution_count": 60,
     "metadata": {},
     "output_type": "execute_result"
    }
   ],
   "source": [
    "#using bayes theorem:\n",
    "bga = a[a['Inns'] == 1]\n",
    "pbga = len(bga) / len(a)\n",
    "pbga * (len(a) / len(b))"
   ]
  },
  {
   "cell_type": "code",
   "execution_count": 84,
   "metadata": {},
   "outputs": [
    {
     "data": {
      "text/plain": [
       "<function defaultdict.get(key, default=None, /)>"
      ]
     },
     "execution_count": 84,
     "metadata": {},
     "output_type": "execute_result"
    }
   ],
   "source": [
    "stringer = 'aaaabbbbcccccccdddddddddffff'\n",
    "from collections import defaultdict\n",
    "dict = defaultdict(int)\n",
    "for c in stringer:\n",
    "    dict[c]+=1\n",
    "# max(dict , key = dict.get)\n",
    "dict.get"
   ]
  },
  {
   "cell_type": "code",
   "execution_count": 94,
   "metadata": {},
   "outputs": [],
   "source": [
    "#visualizations:\n",
    "import seaborn as sns\n",
    "import matplotlib.pyplot as plt"
   ]
  },
  {
   "cell_type": "code",
   "execution_count": 109,
   "metadata": {},
   "outputs": [
    {
     "data": {
      "image/png": "[encoded data removed]",
      "text/plain": [
       "<Figure size 640x480 with 1 Axes>"
      ]
     },
     "metadata": {},
     "output_type": "display_data"
    }
   ],
   "source": [
    "sns.histplot(sachin , x = sachin['runs'] , bins = 30)\n",
    "mode = sachin['runs'].mode()\n",
    "mean = sachin['runs'].mean()\n",
    "median = sachin['runs'].median()\n",
    "plt.axvline(mean , color = 'red' , label = 'Mean')\n",
    "plt.axvline(median , color = 'blue' , label = 'Median')\n",
    "plt.axvline(mode[0] , color = 'green' , label = 'Mode')\n",
    "plt.title(\"Sachin's run distribution\")\n",
    "plt.legend()\n",
    "plt.show()"
   ]
  },
  {
   "cell_type": "code",
   "execution_count": 110,
   "metadata": {},
   "outputs": [
    {
     "data": {
      "text/plain": [
       "<seaborn.axisgrid.FacetGrid at 0x16bac7e90>"
      ]
     },
     "execution_count": 110,
     "metadata": {},
     "output_type": "execute_result"
    },
    {
     "data": {
      "image/png": "[encoded data removed]",
      "text/plain": [
       "<Figure size 511.111x500 with 1 Axes>"
      ]
     },
     "metadata": {},
     "output_type": "display_data"
    }
   ],
   "source": [
    "sns.catplot(sachin , y = sachin['runs'] , kind = 'box')"
   ]
  },
  {
   "cell_type": "code",
   "execution_count": null,
   "metadata": {},
   "outputs": [],
   "source": []
  }
 ],
 "metadata": {
  "kernelspec": {
   "display_name": "tensorflow",
   "language": "python",
   "name": "python3"
  },
  "language_info": {
   "codemirror_mode": {
    "name": "ipython",
    "version": 3
   },
   "file_extension": ".py",
   "mimetype": "text/x-python",
   "name": "python",
   "nbconvert_exporter": "python",
   "pygments_lexer": "ipython3",
   "version": "3.11.9"
  }
 },
 "nbformat": 4,
 "nbformat_minor": 2
}
