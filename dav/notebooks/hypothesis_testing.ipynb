{
 "cells": [
  {
   "cell_type": "code",
   "execution_count": 2,
   "metadata": {},
   "outputs": [],
   "source": [
    "# !wget https://d2beiqkhq929f0.cloudfront.net/public_assets/assets/000/102/634/original/medical_cost.zip -P ../data\n",
    "# !unzip ../data/medical_cost.zip -d ../data"
   ]
  },
  {
   "cell_type": "code",
   "execution_count": 3,
   "metadata": {},
   "outputs": [],
   "source": [
    "import pandas as pd\n",
    "import numpy as np\n",
    "import scipy.stats as stats\n",
    "import seaborn as sns\n",
    "import matplotlib.pyplot as plt"
   ]
  },
  {
   "cell_type": "code",
   "execution_count": 4,
   "metadata": {},
   "outputs": [
    {
     "data": {
      "text/html": [
       "<div>\n",
       "<style scoped>\n",
       "    .dataframe tbody tr th:only-of-type {\n",
       "        vertical-align: middle;\n",
       "    }\n",
       "\n",
       "    .dataframe tbody tr th {\n",
       "        vertical-align: top;\n",
       "    }\n",
       "\n",
       "    .dataframe thead th {\n",
       "        text-align: right;\n",
       "    }\n",
       "</style>\n",
       "<table border=\"1\" class=\"dataframe\">\n",
       "  <thead>\n",
       "    <tr style=\"text-align: right;\">\n",
       "      <th></th>\n",
       "      <th>age</th>\n",
       "      <th>sex</th>\n",
       "      <th>bmi</th>\n",
       "      <th>children</th>\n",
       "      <th>smoker</th>\n",
       "      <th>region</th>\n",
       "      <th>charges</th>\n",
       "    </tr>\n",
       "  </thead>\n",
       "  <tbody>\n",
       "    <tr>\n",
       "      <th>0</th>\n",
       "      <td>19</td>\n",
       "      <td>female</td>\n",
       "      <td>27.900</td>\n",
       "      <td>0</td>\n",
       "      <td>yes</td>\n",
       "      <td>southwest</td>\n",
       "      <td>16884.92400</td>\n",
       "    </tr>\n",
       "    <tr>\n",
       "      <th>1</th>\n",
       "      <td>18</td>\n",
       "      <td>male</td>\n",
       "      <td>33.770</td>\n",
       "      <td>1</td>\n",
       "      <td>no</td>\n",
       "      <td>southeast</td>\n",
       "      <td>1725.55230</td>\n",
       "    </tr>\n",
       "    <tr>\n",
       "      <th>2</th>\n",
       "      <td>28</td>\n",
       "      <td>male</td>\n",
       "      <td>33.000</td>\n",
       "      <td>3</td>\n",
       "      <td>no</td>\n",
       "      <td>southeast</td>\n",
       "      <td>4449.46200</td>\n",
       "    </tr>\n",
       "    <tr>\n",
       "      <th>3</th>\n",
       "      <td>33</td>\n",
       "      <td>male</td>\n",
       "      <td>22.705</td>\n",
       "      <td>0</td>\n",
       "      <td>no</td>\n",
       "      <td>northwest</td>\n",
       "      <td>21984.47061</td>\n",
       "    </tr>\n",
       "    <tr>\n",
       "      <th>4</th>\n",
       "      <td>32</td>\n",
       "      <td>male</td>\n",
       "      <td>28.880</td>\n",
       "      <td>0</td>\n",
       "      <td>no</td>\n",
       "      <td>northwest</td>\n",
       "      <td>3866.85520</td>\n",
       "    </tr>\n",
       "  </tbody>\n",
       "</table>\n",
       "</div>"
      ],
      "text/plain": [
       "   age     sex     bmi  children smoker     region      charges\n",
       "0   19  female  27.900         0    yes  southwest  16884.92400\n",
       "1   18    male  33.770         1     no  southeast   1725.55230\n",
       "2   28    male  33.000         3     no  southeast   4449.46200\n",
       "3   33    male  22.705         0     no  northwest  21984.47061\n",
       "4   32    male  28.880         0     no  northwest   3866.85520"
      ]
     },
     "execution_count": 4,
     "metadata": {},
     "output_type": "execute_result"
    }
   ],
   "source": [
    "insurance = pd.read_csv('../data/insurance.csv')\n",
    "insurance.head()"
   ]
  },
  {
   "cell_type": "code",
   "execution_count": 5,
   "metadata": {},
   "outputs": [
    {
     "data": {
      "text/html": [
       "<div>\n",
       "<style scoped>\n",
       "    .dataframe tbody tr th:only-of-type {\n",
       "        vertical-align: middle;\n",
       "    }\n",
       "\n",
       "    .dataframe tbody tr th {\n",
       "        vertical-align: top;\n",
       "    }\n",
       "\n",
       "    .dataframe thead th {\n",
       "        text-align: right;\n",
       "    }\n",
       "</style>\n",
       "<table border=\"1\" class=\"dataframe\">\n",
       "  <thead>\n",
       "    <tr style=\"text-align: right;\">\n",
       "      <th></th>\n",
       "      <th>age</th>\n",
       "      <th>bmi</th>\n",
       "      <th>children</th>\n",
       "      <th>charges</th>\n",
       "    </tr>\n",
       "  </thead>\n",
       "  <tbody>\n",
       "    <tr>\n",
       "      <th>count</th>\n",
       "      <td>1338.000000</td>\n",
       "      <td>1338.000000</td>\n",
       "      <td>1338.000000</td>\n",
       "      <td>1338.000000</td>\n",
       "    </tr>\n",
       "    <tr>\n",
       "      <th>mean</th>\n",
       "      <td>39.207025</td>\n",
       "      <td>30.663397</td>\n",
       "      <td>1.094918</td>\n",
       "      <td>13270.422265</td>\n",
       "    </tr>\n",
       "    <tr>\n",
       "      <th>std</th>\n",
       "      <td>14.049960</td>\n",
       "      <td>6.098187</td>\n",
       "      <td>1.205493</td>\n",
       "      <td>12110.011237</td>\n",
       "    </tr>\n",
       "    <tr>\n",
       "      <th>min</th>\n",
       "      <td>18.000000</td>\n",
       "      <td>15.960000</td>\n",
       "      <td>0.000000</td>\n",
       "      <td>1121.873900</td>\n",
       "    </tr>\n",
       "    <tr>\n",
       "      <th>25%</th>\n",
       "      <td>27.000000</td>\n",
       "      <td>26.296250</td>\n",
       "      <td>0.000000</td>\n",
       "      <td>4740.287150</td>\n",
       "    </tr>\n",
       "    <tr>\n",
       "      <th>50%</th>\n",
       "      <td>39.000000</td>\n",
       "      <td>30.400000</td>\n",
       "      <td>1.000000</td>\n",
       "      <td>9382.033000</td>\n",
       "    </tr>\n",
       "    <tr>\n",
       "      <th>75%</th>\n",
       "      <td>51.000000</td>\n",
       "      <td>34.693750</td>\n",
       "      <td>2.000000</td>\n",
       "      <td>16639.912515</td>\n",
       "    </tr>\n",
       "    <tr>\n",
       "      <th>max</th>\n",
       "      <td>64.000000</td>\n",
       "      <td>53.130000</td>\n",
       "      <td>5.000000</td>\n",
       "      <td>63770.428010</td>\n",
       "    </tr>\n",
       "  </tbody>\n",
       "</table>\n",
       "</div>"
      ],
      "text/plain": [
       "               age          bmi     children       charges\n",
       "count  1338.000000  1338.000000  1338.000000   1338.000000\n",
       "mean     39.207025    30.663397     1.094918  13270.422265\n",
       "std      14.049960     6.098187     1.205493  12110.011237\n",
       "min      18.000000    15.960000     0.000000   1121.873900\n",
       "25%      27.000000    26.296250     0.000000   4740.287150\n",
       "50%      39.000000    30.400000     1.000000   9382.033000\n",
       "75%      51.000000    34.693750     2.000000  16639.912515\n",
       "max      64.000000    53.130000     5.000000  63770.428010"
      ]
     },
     "execution_count": 5,
     "metadata": {},
     "output_type": "execute_result"
    }
   ],
   "source": [
    "df = insurance\n",
    "df.describe()"
   ]
  },
  {
   "cell_type": "markdown",
   "metadata": {},
   "source": [
    "## Q. is avg. charge different than industry std. charge of 13000 ?\n"
   ]
  },
  {
   "cell_type": "code",
   "execution_count": 6,
   "metadata": {},
   "outputs": [
    {
     "data": {
      "text/plain": [
       "count     1338.000000\n",
       "mean     13270.422265\n",
       "std      12110.011237\n",
       "min       1121.873900\n",
       "25%       4740.287150\n",
       "50%       9382.033000\n",
       "75%      16639.912515\n",
       "max      63770.428010\n",
       "Name: charges, dtype: float64"
      ]
     },
     "execution_count": 6,
     "metadata": {},
     "output_type": "execute_result"
    }
   ],
   "source": [
    "charges = df['charges']\n",
    "charges.describe()"
   ]
  },
  {
   "cell_type": "code",
   "execution_count": 7,
   "metadata": {},
   "outputs": [
    {
     "data": {
      "text/plain": [
       "<Axes: xlabel='charges', ylabel='Count'>"
      ]
     },
     "execution_count": 7,
     "metadata": {},
     "output_type": "execute_result"
    },
    {
     "data": {
      "image/png": "[encoded data removed]",
      "text/plain": [
       "<Figure size 640x480 with 1 Axes>"
      ]
     },
     "metadata": {},
     "output_type": "display_data"
    }
   ],
   "source": [
    "sns.histplot(charges)"
   ]
  },
  {
   "cell_type": "code",
   "execution_count": 8,
   "metadata": {},
   "outputs": [
    {
     "data": {
      "text/plain": [
       "<matplotlib.legend.Legend at 0x11ae225d0>"
      ]
     },
     "execution_count": 8,
     "metadata": {},
     "output_type": "execute_result"
    },
    {
     "data": {
      "image/png": "[encoded data removed]",
      "text/plain": [
       "<Figure size 640x480 with 1 Axes>"
      ]
     },
     "metadata": {},
     "output_type": "display_data"
    }
   ],
   "source": [
    "# // sampling distribution of sample means:\n",
    "means = []\n",
    "sample_size = 30\n",
    "for i in range(200):\n",
    "    mean = np.mean(np.random.choice(charges , sample_size , replace = False))\n",
    "    means.append(mean)\n",
    "\n",
    "sns.histplot(means , bins = 30 , kde = True)\n",
    "plt.axvline(np.mean(means) , color = 'red' , label = 'mean:'+ str(np.around(np.mean(charges) , 3)))\n",
    "plt.legend()"
   ]
  },
  {
   "cell_type": "code",
   "execution_count": 9,
   "metadata": {},
   "outputs": [
    {
     "data": {
      "text/plain": [
       "(1338, np.float64(13270.422265141257), np.float64(12105.484975561612))"
      ]
     },
     "execution_count": 9,
     "metadata": {},
     "output_type": "execute_result"
    }
   ],
   "source": [
    "mean = np.mean(charges)\n",
    "std = np.std(charges)\n",
    "n = charges.shape[0]\n",
    "n , mean , std"
   ]
  },
  {
   "cell_type": "code",
   "execution_count": 10,
   "metadata": {},
   "outputs": [
    {
     "data": {
      "text/plain": [
       "(np.float64(0.817124646210979), np.float64(0.7930714002130685))"
      ]
     },
     "execution_count": 10,
     "metadata": {},
     "output_type": "execute_result"
    }
   ],
   "source": [
    "z = (mean - 13000)/ (std/np.sqrt(n))\n",
    "z , stats.norm.cdf(z)"
   ]
  },
  {
   "cell_type": "code",
   "execution_count": 11,
   "metadata": {},
   "outputs": [
    {
     "data": {
      "text/plain": [
       "np.float64(0.4138571995738629)"
      ]
     },
     "execution_count": 11,
     "metadata": {},
     "output_type": "execute_result"
    }
   ],
   "source": [
    "pval =  2 * (1 - stats.norm.cdf(z))\n",
    "pval"
   ]
  },
  {
   "cell_type": "code",
   "execution_count": 12,
   "metadata": {},
   "outputs": [
    {
     "data": {
      "text/plain": [
       "(np.float64(12621.784504975403), np.float64(13919.06002530711))"
      ]
     },
     "execution_count": 12,
     "metadata": {},
     "output_type": "execute_result"
    }
   ],
   "source": [
    "ci = 0.95\n",
    "stderr = std / np.sqrt(n)\n",
    "zcritical = stats.norm.ppf((1+ci) / 2)\n",
    "lowerl = mean - stderr * zcritical\n",
    "upperl = mean + stderr * zcritical\n",
    "lowerl , upperl"
   ]
  },
  {
   "cell_type": "code",
   "execution_count": 13,
   "metadata": {},
   "outputs": [
    {
     "data": {
      "text/html": [
       "<div>\n",
       "<style scoped>\n",
       "    .dataframe tbody tr th:only-of-type {\n",
       "        vertical-align: middle;\n",
       "    }\n",
       "\n",
       "    .dataframe tbody tr th {\n",
       "        vertical-align: top;\n",
       "    }\n",
       "\n",
       "    .dataframe thead th {\n",
       "        text-align: right;\n",
       "    }\n",
       "</style>\n",
       "<table border=\"1\" class=\"dataframe\">\n",
       "  <thead>\n",
       "    <tr style=\"text-align: right;\">\n",
       "      <th></th>\n",
       "      <th>age</th>\n",
       "      <th>sex</th>\n",
       "      <th>bmi</th>\n",
       "      <th>children</th>\n",
       "      <th>smoker</th>\n",
       "      <th>region</th>\n",
       "      <th>charges</th>\n",
       "    </tr>\n",
       "  </thead>\n",
       "  <tbody>\n",
       "    <tr>\n",
       "      <th>0</th>\n",
       "      <td>19</td>\n",
       "      <td>female</td>\n",
       "      <td>27.900</td>\n",
       "      <td>0</td>\n",
       "      <td>yes</td>\n",
       "      <td>southwest</td>\n",
       "      <td>16884.92400</td>\n",
       "    </tr>\n",
       "    <tr>\n",
       "      <th>1</th>\n",
       "      <td>18</td>\n",
       "      <td>male</td>\n",
       "      <td>33.770</td>\n",
       "      <td>1</td>\n",
       "      <td>no</td>\n",
       "      <td>southeast</td>\n",
       "      <td>1725.55230</td>\n",
       "    </tr>\n",
       "    <tr>\n",
       "      <th>2</th>\n",
       "      <td>28</td>\n",
       "      <td>male</td>\n",
       "      <td>33.000</td>\n",
       "      <td>3</td>\n",
       "      <td>no</td>\n",
       "      <td>southeast</td>\n",
       "      <td>4449.46200</td>\n",
       "    </tr>\n",
       "    <tr>\n",
       "      <th>3</th>\n",
       "      <td>33</td>\n",
       "      <td>male</td>\n",
       "      <td>22.705</td>\n",
       "      <td>0</td>\n",
       "      <td>no</td>\n",
       "      <td>northwest</td>\n",
       "      <td>21984.47061</td>\n",
       "    </tr>\n",
       "    <tr>\n",
       "      <th>4</th>\n",
       "      <td>32</td>\n",
       "      <td>male</td>\n",
       "      <td>28.880</td>\n",
       "      <td>0</td>\n",
       "      <td>no</td>\n",
       "      <td>northwest</td>\n",
       "      <td>3866.85520</td>\n",
       "    </tr>\n",
       "    <tr>\n",
       "      <th>...</th>\n",
       "      <td>...</td>\n",
       "      <td>...</td>\n",
       "      <td>...</td>\n",
       "      <td>...</td>\n",
       "      <td>...</td>\n",
       "      <td>...</td>\n",
       "      <td>...</td>\n",
       "    </tr>\n",
       "    <tr>\n",
       "      <th>1333</th>\n",
       "      <td>50</td>\n",
       "      <td>male</td>\n",
       "      <td>30.970</td>\n",
       "      <td>3</td>\n",
       "      <td>no</td>\n",
       "      <td>northwest</td>\n",
       "      <td>10600.54830</td>\n",
       "    </tr>\n",
       "    <tr>\n",
       "      <th>1334</th>\n",
       "      <td>18</td>\n",
       "      <td>female</td>\n",
       "      <td>31.920</td>\n",
       "      <td>0</td>\n",
       "      <td>no</td>\n",
       "      <td>northeast</td>\n",
       "      <td>2205.98080</td>\n",
       "    </tr>\n",
       "    <tr>\n",
       "      <th>1335</th>\n",
       "      <td>18</td>\n",
       "      <td>female</td>\n",
       "      <td>36.850</td>\n",
       "      <td>0</td>\n",
       "      <td>no</td>\n",
       "      <td>southeast</td>\n",
       "      <td>1629.83350</td>\n",
       "    </tr>\n",
       "    <tr>\n",
       "      <th>1336</th>\n",
       "      <td>21</td>\n",
       "      <td>female</td>\n",
       "      <td>25.800</td>\n",
       "      <td>0</td>\n",
       "      <td>no</td>\n",
       "      <td>southwest</td>\n",
       "      <td>2007.94500</td>\n",
       "    </tr>\n",
       "    <tr>\n",
       "      <th>1337</th>\n",
       "      <td>61</td>\n",
       "      <td>female</td>\n",
       "      <td>29.070</td>\n",
       "      <td>0</td>\n",
       "      <td>yes</td>\n",
       "      <td>northwest</td>\n",
       "      <td>29141.36030</td>\n",
       "    </tr>\n",
       "  </tbody>\n",
       "</table>\n",
       "<p>1338 rows × 7 columns</p>\n",
       "</div>"
      ],
      "text/plain": [
       "      age     sex     bmi  children smoker     region      charges\n",
       "0      19  female  27.900         0    yes  southwest  16884.92400\n",
       "1      18    male  33.770         1     no  southeast   1725.55230\n",
       "2      28    male  33.000         3     no  southeast   4449.46200\n",
       "3      33    male  22.705         0     no  northwest  21984.47061\n",
       "4      32    male  28.880         0     no  northwest   3866.85520\n",
       "...   ...     ...     ...       ...    ...        ...          ...\n",
       "1333   50    male  30.970         3     no  northwest  10600.54830\n",
       "1334   18  female  31.920         0     no  northeast   2205.98080\n",
       "1335   18  female  36.850         0     no  southeast   1629.83350\n",
       "1336   21  female  25.800         0     no  southwest   2007.94500\n",
       "1337   61  female  29.070         0    yes  northwest  29141.36030\n",
       "\n",
       "[1338 rows x 7 columns]"
      ]
     },
     "execution_count": 13,
     "metadata": {},
     "output_type": "execute_result"
    }
   ],
   "source": [
    "df"
   ]
  },
  {
   "cell_type": "code",
   "execution_count": 14,
   "metadata": {},
   "outputs": [
    {
     "data": {
      "text/plain": [
       "1        1725.55230\n",
       "2        4449.46200\n",
       "6        8240.58960\n",
       "12       1826.84300\n",
       "13      11090.71780\n",
       "           ...     \n",
       "1331    10795.93733\n",
       "1332    11411.68500\n",
       "1333    10600.54830\n",
       "1334     2205.98080\n",
       "1335     1629.83350\n",
       "Name: charges, Length: 707, dtype: float64"
      ]
     },
     "execution_count": 14,
     "metadata": {},
     "output_type": "execute_result"
    }
   ],
   "source": [
    "b30 = df[df['bmi'] >= 30]\n",
    "b30\n",
    "bcharges = b30['charges']\n",
    "\n",
    "bn = bcharges.shape[0]\n",
    "bcharges"
   ]
  },
  {
   "cell_type": "code",
   "execution_count": 15,
   "metadata": {},
   "outputs": [
    {
     "data": {
      "text/plain": [
       "(np.float64(4.666836024686853), np.float64(3.058732374272566e-06))"
      ]
     },
     "execution_count": 15,
     "metadata": {},
     "output_type": "execute_result"
    }
   ],
   "source": [
    "bmean = np.mean(bcharges)\n",
    "bstd = np.std(bcharges)\n",
    "bstderr = bstd/ np.sqrt(bn)\n",
    "z = (bmean - 13000) / bstderr\n",
    "z , 2 * (1 - stats.norm.cdf(z))"
   ]
  },
  {
   "cell_type": "markdown",
   "metadata": {},
   "source": [
    "## Q. Is the average medical charge for smokers significantly higher than for non-smokers?\n"
   ]
  },
  {
   "cell_type": "code",
   "execution_count": 16,
   "metadata": {},
   "outputs": [],
   "source": [
    "smokers = df[df['smoker'] == 'yes']\n",
    "smokers\n",
    "sscharges = smokers['charges']\n",
    "sscharges\n",
    "nsmokers = df[df['smoker'] == 'no']\n",
    "nscharges = nsmokers['charges']\n"
   ]
  },
  {
   "cell_type": "code",
   "execution_count": 17,
   "metadata": {},
   "outputs": [
    {
     "data": {
      "text/plain": [
       "(np.float64(32.80892081978334), np.float64(0.0))"
      ]
     },
     "execution_count": 17,
     "metadata": {},
     "output_type": "execute_result"
    }
   ],
   "source": [
    "ssmean = np.mean(sscharges)\n",
    "ssstd = np.std(sscharges)\n",
    "ssn = sscharges.shape[0]\n",
    "ssstderr = ssstd/np.sqrt(ssn)\n",
    "\n",
    "nsmean = np.mean(nscharges)\n",
    "nsstd = np.std(nscharges)\n",
    "nsn = nscharges.shape[0]\n",
    "nsstderr = nsstd / np.sqrt(nsn)\n",
    "\n",
    "stderr = np.sqrt((ssstd**2) / ssn + (nsstd **2) / nsn)\n",
    "\n",
    "z = (ssmean - nsmean) / stderr\n",
    "z , 2 * (1 - stats.norm.cdf(z))"
   ]
  },
  {
   "cell_type": "code",
   "execution_count": 18,
   "metadata": {},
   "outputs": [
    {
     "data": {
      "text/plain": [
       "(np.float64(32050.23183153284), np.float64(11520.46670652943), 274)"
      ]
     },
     "execution_count": 18,
     "metadata": {},
     "output_type": "execute_result"
    }
   ],
   "source": [
    "ssmean , ssstd , ssn"
   ]
  },
  {
   "cell_type": "code",
   "execution_count": 19,
   "metadata": {},
   "outputs": [
    {
     "data": {
      "text/plain": [
       "(np.float64(8434.268297856204), np.float64(5990.9645302876115), 1064)"
      ]
     },
     "execution_count": 19,
     "metadata": {},
     "output_type": "execute_result"
    }
   ],
   "source": [
    "nsmean , nsstd , nsn"
   ]
  },
  {
   "cell_type": "code",
   "execution_count": 20,
   "metadata": {},
   "outputs": [
    {
     "data": {
      "text/plain": [
       "(np.float64(4.264804321855194), np.float64(4.735195678144806))"
      ]
     },
     "execution_count": 20,
     "metadata": {},
     "output_type": "execute_result"
    }
   ],
   "source": [
    "cf = 0.95\n",
    "zcritical = stats.norm.ppf((1+cf) /2)\n",
    "limit = zcritical * (1.2 / (10))\n",
    "4.5 - limit , 4.5 + limit"
   ]
  },
  {
   "cell_type": "code",
   "execution_count": 21,
   "metadata": {},
   "outputs": [
    {
     "name": "stdout",
     "output_type": "stream",
     "text": [
      "M1_data: [np.float64(6.0), np.float64(6.0), np.float64(11.0), np.float64(7.0), np.float64(19.0), np.float64(6.0), np.float64(13.0), np.float64(10.0), np.float64(18.0), np.float64(7.0), np.float64(10.0), np.float64(10.0), np.float64(9.0), np.float64(5.0), np.float64(12.0), np.float64(6.0), np.float64(14.0), np.float64(6.0), np.float64(10.0), np.float64(12.0), np.float64(19.0), np.float64(6.0), np.float64(7.0), np.float64(17.0), np.float64(5.0), np.float64(19.0), np.float64(14.0), np.float64(9.0), np.float64(18.0), np.float64(17.0), np.float64(10.0), np.float64(17.0), np.float64(8.0), np.float64(14.0), np.float64(13.0), np.float64(17.0), np.float64(10.0), np.float64(11.0), np.float64(17.0), np.float64(13.0), np.float64(15.0), np.float64(15.0), np.float64(15.0), np.float64(18.0), np.float64(12.0), np.float64(15.0), np.float64(11.0), np.float64(5.0), np.float64(16.0), np.float64(8.0), np.float64(17.0), np.float64(19.0), np.float64(15.0), np.float64(8.0), np.float64(10.0), np.float64(11.0), np.float64(6.0), np.float64(12.0), np.float64(14.0), np.float64(10.0), np.float64(8.0), np.float64(6.0), np.float64(14.0), np.float64(5.0), np.float64(10.0), np.float64(8.0), np.float64(13.0), np.float64(16.0), np.float64(19.0), np.float64(15.0), np.float64(20.0), np.float64(19.0), np.float64(14.0), np.float64(9.0), np.float64(12.0), np.float64(8.0), np.float64(20.0), np.float64(12.0), np.float64(16.0), np.float64(6.0), np.float64(7.0), np.float64(8.0), np.float64(9.0), np.float64(10.0), np.float64(9.0), np.float64(12.0), np.float64(11.0), np.float64(7.0), np.float64(6.0), np.float64(10.0), np.float64(6.0), np.float64(11.0), np.float64(5.0), np.float64(13.0), np.float64(6.0), np.float64(15.0), np.float64(11.0), np.float64(20.0), np.float64(9.0), np.float64(12.0)]\n",
      "M2_data: [np.float64(24.0), np.float64(13.0), np.float64(14.0), np.float64(21.0), np.float64(29.0), np.float64(27.0), np.float64(15.0), np.float64(23.0), np.float64(22.0), np.float64(14.0), np.float64(11.0), np.float64(7.0), np.float64(27.0), np.float64(6.0), np.float64(18.0), np.float64(18.0), np.float64(9.0), np.float64(21.0), np.float64(28.0), np.float64(24.0), np.float64(15.0), np.float64(8.0), np.float64(29.0), np.float64(18.0), np.float64(21.0), np.float64(25.0), np.float64(15.0), np.float64(7.0), np.float64(8.0), np.float64(22.0), np.float64(14.0), np.float64(27.0), np.float64(24.0), np.float64(30.0), np.float64(22.0), np.float64(13.0), np.float64(25.0), np.float64(6.0), np.float64(18.0), np.float64(27.0), np.float64(18.0), np.float64(8.0), np.float64(18.0), np.float64(19.0), np.float64(14.0), np.float64(27.0), np.float64(14.0), np.float64(12.0), np.float64(18.0), np.float64(10.0), np.float64(13.0), np.float64(15.0), np.float64(28.0), np.float64(7.0), np.float64(10.0), np.float64(10.0), np.float64(30.0), np.float64(27.0), np.float64(10.0), np.float64(19.0), np.float64(7.0), np.float64(13.0), np.float64(14.0), np.float64(18.0), np.float64(28.0), np.float64(25.0), np.float64(18.0), np.float64(25.0), np.float64(17.0), np.float64(23.0), np.float64(24.0), np.float64(11.0), np.float64(26.0), np.float64(19.0), np.float64(17.0), np.float64(15.0), np.float64(11.0), np.float64(18.0), np.float64(8.0), np.float64(21.0), np.float64(27.0), np.float64(25.0), np.float64(20.0), np.float64(17.0), np.float64(22.0), np.float64(8.0), np.float64(6.0), np.float64(27.0), np.float64(14.0), np.float64(22.0)]\n"
     ]
    }
   ],
   "source": [
    "# Two sample tests\n",
    "import random\n",
    "import numpy as np\n",
    "\n",
    "# Set a random seed for reproducibility\n",
    "random.seed(123)  # You can use any integer as the seed\n",
    "\n",
    "# Create an empty list to store the recovery times\n",
    "M1_data = []\n",
    "\n",
    "# Generate 100 random recovery times\n",
    "for i in range(100):\n",
    "    recovery_time = random.uniform(5.0, 20.0)  # Generating values between 10 and 20\n",
    "    M1_data.append(np.round(recovery_time,0))\n",
    "\n",
    "# Print the generated data\n",
    "print(\"M1_data:\",M1_data)\n",
    "\n",
    "# Create an empty list to store the recovery times\n",
    "M2_data = []\n",
    "\n",
    "# Generate 90 random recovery times\n",
    "for _ in range(90):\n",
    "    recovery_time = random.uniform(5.0, 30.0)  # Generating values between 5 and 30\n",
    "    M2_data.append(np.round(recovery_time,0))\n",
    "\n",
    "# Print the generated data\n",
    "print(\"M2_data:\",M2_data)"
   ]
  },
  {
   "cell_type": "code",
   "execution_count": 22,
   "metadata": {},
   "outputs": [],
   "source": [
    "# import a library to perform a Z-test\n",
    "from statsmodels.stats import weightstats as stests\n",
    "from scipy import stats"
   ]
  },
  {
   "cell_type": "code",
   "execution_count": 23,
   "metadata": {},
   "outputs": [
    {
     "data": {
      "text/plain": [
       "(np.float64(-7.68917478890992), np.float64(1.480870398429616e-14))"
      ]
     },
     "execution_count": 23,
     "metadata": {},
     "output_type": "execute_result"
    }
   ],
   "source": [
    "zscore , pval = stests.ztest(x1 = M1_data , x2 = M2_data , value= 0 , alternative='two-sided')\n",
    "zscore , pval"
   ]
  },
  {
   "cell_type": "code",
   "execution_count": 24,
   "metadata": {},
   "outputs": [
    {
     "data": {
      "text/plain": [
       "np.float64(0.9999115827147992)"
      ]
     },
     "execution_count": 24,
     "metadata": {},
     "output_type": "execute_result"
    }
   ],
   "source": [
    "1 - stats.norm.cdf(-3.75)"
   ]
  },
  {
   "cell_type": "code",
   "execution_count": 25,
   "metadata": {},
   "outputs": [
    {
     "data": {
      "text/plain": [
       "(np.float64(3.751832396884334), np.float64(0.00017554681014564366))"
      ]
     },
     "execution_count": 25,
     "metadata": {},
     "output_type": "execute_result"
    }
   ],
   "source": [
    "z = 2 / np.sqrt((9 / 50)+((2.5**2) / 60))\n",
    "pval = 2 * (1 - stats.norm.cdf(z))\n",
    "z , pval"
   ]
  },
  {
   "cell_type": "code",
   "execution_count": 26,
   "metadata": {},
   "outputs": [
    {
     "data": {
      "text/plain": [
       "(np.float64(191.20108046379838), np.float64(308.79891953620165))"
      ]
     },
     "execution_count": 26,
     "metadata": {},
     "output_type": "execute_result"
    }
   ],
   "source": [
    "mean = 250\n",
    "std = 30\n",
    "ci = 0.96\n",
    "zc =  stats.norm.ppf((1+cf) / 2)\n",
    "limit = zc * std\n",
    "mean - limit , mean + limit"
   ]
  },
  {
   "cell_type": "code",
   "execution_count": 27,
   "metadata": {},
   "outputs": [],
   "source": [
    "ac = [13.4, 10.9, 11.2, 11.8, 14, 15.3, 14.2, 12.6, 17, 16.2, 16.5, 15.7]\n",
    "urea = [12, 11.7, 10.7, 11.2, 14.8, 14.4, 13.9, 13.7, 16.9, 16, 15.6, 16]"
   ]
  },
  {
   "cell_type": "code",
   "execution_count": 28,
   "metadata": {},
   "outputs": [],
   "source": [
    "mac = np.mean(ac)\n",
    "sac = np.std(ac)\n",
    "nac = len(ac)\n",
    "\n",
    "mu = np.mean(urea)\n",
    "su = np.std(urea)\n",
    "nu = len(urea)\n"
   ]
  },
  {
   "cell_type": "code",
   "execution_count": 29,
   "metadata": {},
   "outputs": [
    {
     "data": {
      "text/plain": [
       "TtestResult(statistic=np.float64(0.1846496543760765), pvalue=np.float64(0.8551958042571346), df=np.float64(21.994902775756856))"
      ]
     },
     "execution_count": 29,
     "metadata": {},
     "output_type": "execute_result"
    }
   ],
   "source": [
    "stats.ttest_ind(ac , urea , equal_var=False)"
   ]
  },
  {
   "cell_type": "code",
   "execution_count": 30,
   "metadata": {},
   "outputs": [
    {
     "data": {
      "text/plain": [
       "(np.float64(-1.7408075440976007), np.float64(0.08171731915149628))"
      ]
     },
     "execution_count": 30,
     "metadata": {},
     "output_type": "execute_result"
    }
   ],
   "source": [
    "z = (243.5 - 300) / (229.5 / np.sqrt(50))\n",
    "z , 2 * stats.norm.cdf(z)"
   ]
  },
  {
   "cell_type": "code",
   "execution_count": 31,
   "metadata": {},
   "outputs": [
    {
     "data": {
      "text/plain": [
       "(np.float64(2.007984063681781), np.float64(0.022322492581293485))"
      ]
     },
     "execution_count": 31,
     "metadata": {},
     "output_type": "execute_result"
    }
   ],
   "source": [
    "z = (30)/ (125 / np.sqrt(70))\n",
    "z , 1 - stats.norm.cdf(z)"
   ]
  },
  {
   "cell_type": "code",
   "execution_count": 32,
   "metadata": {},
   "outputs": [
    {
     "data": {
      "text/plain": [
       "(np.float64(1.6431676725154984), np.float64(0.10034824646229068))"
      ]
     },
     "execution_count": 32,
     "metadata": {},
     "output_type": "execute_result"
    }
   ],
   "source": [
    "z = (0.15)/ ( 0.5/np.sqrt(30))\n",
    "z , 2 * (1 - stats.norm.cdf(z))"
   ]
  },
  {
   "cell_type": "code",
   "execution_count": 112,
   "metadata": {},
   "outputs": [
    {
     "data": {
      "text/plain": [
       "(-0.8944271909999159, 0.18554668476134878)"
      ]
     },
     "execution_count": 112,
     "metadata": {},
     "output_type": "execute_result"
    }
   ],
   "source": [
    "z = (-0.5)/ ( 2.5/np.sqrt(20))\n",
    "z ,  stats.norm.cdf(z)"
   ]
  },
  {
   "cell_type": "code",
   "execution_count": 113,
   "metadata": {},
   "outputs": [
    {
     "data": {
      "text/plain": [
       "TtestResult(statistic=-2.799960442832919, pvalue=0.010730607904197957, df=21.0)"
      ]
     },
     "execution_count": 113,
     "metadata": {},
     "output_type": "execute_result"
    }
   ],
   "source": [
    "men = [13.3, 6.0, 20.0, 8.0, 14.0, 19.0, 18.0, 25.0, 16.0, 24.0, 15.0, 1.0, 15.0]\n",
    "women = [22.0, 16.0, 21.7, 21.0, 30.0, 26.0, 12.0, 23.2, 28.0, 23.0]\n",
    "\n",
    "stats.ttest_ind(men , women , equal_var= True)"
   ]
  },
  {
   "cell_type": "code",
   "execution_count": 116,
   "metadata": {},
   "outputs": [
    {
     "data": {
      "text/plain": [
       "TtestResult(statistic=-0.3725592376935971, pvalue=0.7133682315663243, df=20.140432548101195)"
      ]
     },
     "execution_count": 116,
     "metadata": {},
     "output_type": "execute_result"
    }
   ],
   "source": [
    "school_1 = [115, 111, 112, 101, 95, 98, 100, 90, 89, 108]\n",
    "school_2 = [107, 103, 91, 99, 104, 98, 117, 113, 92, 96, 108, 115, 116, 88]\n",
    "stats.ttest_ind(school_1 , school_2 , equal_var= False)"
   ]
  },
  {
   "cell_type": "code",
   "execution_count": 119,
   "metadata": {},
   "outputs": [
    {
     "data": {
      "text/plain": [
       "(4.714045207910317, 1.2142337364462463e-06)"
      ]
     },
     "execution_count": 119,
     "metadata": {},
     "output_type": "execute_result"
    }
   ],
   "source": [
    "z = 10 / ( 15/ np.sqrt(50))\n",
    "z , 1 - stats.norm.cdf(z)"
   ]
  },
  {
   "cell_type": "code",
   "execution_count": 126,
   "metadata": {},
   "outputs": [
    {
     "data": {
      "text/plain": [
       "(-0.5795450171026676, 0.2847023809445894)"
      ]
     },
     "execution_count": 126,
     "metadata": {},
     "output_type": "execute_result"
    }
   ],
   "source": [
    "female_scores=[25,30,45,49,47,35,32,42]\n",
    "\n",
    "male_scores=[45,47,25,22,29,32,27,28,40,49,50,33]\n",
    "\n",
    "z , p = stats.ttest_ind(male_scores , female_scores , equal_var= True)\n",
    "z , p / 2"
   ]
  },
  {
   "cell_type": "code",
   "execution_count": 132,
   "metadata": {},
   "outputs": [
    {
     "data": {
      "text/plain": [
       "(2.108292664499802, 0.0175028410385466)"
      ]
     },
     "execution_count": 132,
     "metadata": {},
     "output_type": "execute_result"
    }
   ],
   "source": [
    "z = (.22)/(0.7 / np.sqrt(45))\n",
    "z , 1 - stats.norm.cdf(z)"
   ]
  },
  {
   "cell_type": "code",
   "execution_count": 134,
   "metadata": {},
   "outputs": [
    {
     "data": {
      "text/plain": [
       "(1.8601633295108115, 0.031431210741779014)"
      ]
     },
     "execution_count": 134,
     "metadata": {},
     "output_type": "execute_result"
    }
   ],
   "source": [
    "z = 5 / (8.5 / np.sqrt(10))\n",
    "z , 1 - stats.norm.cdf(z)"
   ]
  },
  {
   "cell_type": "code",
   "execution_count": 136,
   "metadata": {},
   "outputs": [
    {
     "data": {
      "text/plain": [
       "(3.125, 0.0008890252991083925)"
      ]
     },
     "execution_count": 136,
     "metadata": {},
     "output_type": "execute_result"
    }
   ],
   "source": [
    " z = 0.5/ ( 0.8/ np.sqrt(25))\n",
    "z , 1 - stats.norm.cdf(z)"
   ]
  },
  {
   "cell_type": "markdown",
   "metadata": {},
   "source": [
    "## chi-square excercise\n"
   ]
  },
  {
   "cell_type": "code",
   "execution_count": 161,
   "metadata": {},
   "outputs": [
    {
     "data": {
      "text/plain": [
       "(1.0316239316239315, 0.5970156414721095)"
      ]
     },
     "execution_count": 161,
     "metadata": {},
     "output_type": "execute_result"
    }
   ],
   "source": [
    "observed = [73 , 38 , 18]\n",
    "osum = np.sum(observed)\n",
    "expected = [round(0.6 * osum) + 1 , round(0.28 * osum), round(0.12 * osum)]\n",
    "    \n",
    "chi , pval = stats.chisquare(f_obs=observed , f_exp= expected)\n",
    "chi , pval\n",
    "\n"
   ]
  },
  {
   "cell_type": "code",
   "execution_count": 150,
   "metadata": {},
   "outputs": [
    {
     "data": {
      "text/plain": [
       "77"
      ]
     },
     "execution_count": 150,
     "metadata": {},
     "output_type": "execute_result"
    }
   ],
   "source": [
    "round(.60 * osum)"
   ]
  },
  {
   "cell_type": "code",
   "execution_count": 162,
   "metadata": {},
   "outputs": [
    {
     "name": "stdout",
     "output_type": "stream",
     "text": [
      "          Abstain  1–60 Drinks  Over 60 Drinks\n",
      "Single         67          213              74\n",
      "Married       411          633             129\n",
      "Widowed        85           51               7\n",
      "Divorced       27           60              15\n"
     ]
    }
   ],
   "source": [
    "data = {\n",
    "    'Abstain': [67, 411, 85, 27],\n",
    "    '1–60 Drinks': [213, 633, 51, 60],\n",
    "    'Over 60 Drinks': [74, 129, 7, 15]\n",
    "}\n",
    "\n",
    "index = ['Single', 'Married', 'Widowed', 'Divorced']\n",
    "\n",
    "# Create contingency table\n",
    "contingency_table = pd.DataFrame(data, index=index)\n",
    "\n",
    "print(contingency_table)"
   ]
  },
  {
   "cell_type": "code",
   "execution_count": 164,
   "metadata": {},
   "outputs": [
    {
     "name": "stdout",
     "output_type": "stream",
     "text": [
      "Chi-Square Statistic: 94.26880078578765\n",
      "p-value: 3.925170647869838e-18\n",
      "Degrees of Freedom: 6\n",
      "Expected Frequencies: [[117.86681716 191.18397291  44.94920993]\n",
      " [390.55869074 633.49943567 148.94187359]\n",
      " [ 47.61286682  77.22968397  18.15744921]\n",
      " [ 33.96162528  55.08690745  12.95146727]]\n"
     ]
    }
   ],
   "source": [
    "# Perform Chi-Square Test for Independence\n",
    "chi2, p, dof, expected = stats.chi2_contingency(contingency_table)\n",
    "\n",
    "print(\"Chi-Square Statistic:\", chi2)\n",
    "print(\"p-value:\", p)\n",
    "print(\"Degrees of Freedom:\", dof)\n",
    "print(\"Expected Frequencies:\", expected)"
   ]
  },
  {
   "cell_type": "code",
   "execution_count": 167,
   "metadata": {},
   "outputs": [
    {
     "name": "stdout",
     "output_type": "stream",
     "text": [
      "Chi-Square Statistic: 94.26880078578765\n",
      "p-value: 3.925170647869838e-18\n",
      "Degrees of Freedom: 6\n",
      "Expected Frequencies: [[117.86681716 191.18397291  44.94920993]\n",
      " [390.55869074 633.49943567 148.94187359]\n",
      " [ 47.61286682  77.22968397  18.15744921]\n",
      " [ 33.96162528  55.08690745  12.95146727]]\n"
     ]
    }
   ],
   "source": [
    "data = {\n",
    "    \"urban\": [335 , 35], \n",
    "    \"sub-urban\" : [348 , 23],\n",
    "    \"rural\" : [318 , 50]\n",
    "}\n",
    "index = ['support' , 'oppose']\n",
    "contingency = pd.DataFrame(data , index = index)\n",
    "chi2, p, dof, expected = stats.chi2_contingency(contingency_table)\n",
    "\n",
    "print(\"Chi-Square Statistic:\", chi2)\n",
    "print(\"p-value:\", p)\n",
    "print(\"Degrees of Freedom:\", dof)\n",
    "print(\"Expected Frequencies:\", expected)"
   ]
  },
  {
   "cell_type": "code",
   "execution_count": 170,
   "metadata": {},
   "outputs": [
    {
     "name": "stdout",
     "output_type": "stream",
     "text": [
      "Contingency Table:\n",
      "\n",
      "          IPC  OPC  OMA\n",
      "-15k       75  106   46\n",
      "15 - 35k  106  161   61\n",
      "35 - 75K   98  183   52\n",
      "75k+       48  102   14\n",
      "Chi-Square Statistic: 15.727554171801787\n",
      "p-value: 0.015293451318673136\n",
      "Degrees of Freedom: 6\n",
      "Expected Frequencies: [[ 70.55988593 119.11026616  37.32984791]\n",
      " [101.95437262 172.10646388  53.9391635 ]\n",
      " [103.50855513 174.73003802  54.76140684]\n",
      " [ 50.97718631  86.05323194  26.96958175]]\n"
     ]
    }
   ],
   "source": [
    "data = {\n",
    "    'IPC': [75 , 106 , 98 , 48],\n",
    "    'OPC': [106 , 161 , 183 , 102],\n",
    "    'OMA': [46 , 61, 52, 14]\n",
    "}\n",
    "\n",
    "index = [ '-15k' ,'15 - 35k' , '35 - 75K' , '75k+']\n",
    "\n",
    "contingency_table = pd.DataFrame(data, index=index)\n",
    "\n",
    "# Display the contingency table\n",
    "print(\"Contingency Table:\\n\")\n",
    "print(contingency_table)\n",
    "chi2, p, dof, expected = stats.chi2_contingency(contingency_table)\n",
    "\n",
    "print(\"Chi-Square Statistic:\", chi2)\n",
    "print(\"p-value:\", p)\n",
    "print(\"Degrees of Freedom:\", dof)\n",
    "print(\"Expected Frequencies:\", expected)"
   ]
  },
  {
   "cell_type": "markdown",
   "metadata": {},
   "source": [
    "## Annova\n"
   ]
  },
  {
   "cell_type": "code",
   "execution_count": 171,
   "metadata": {},
   "outputs": [
    {
     "data": {
      "text/plain": [
       "F_onewayResult(statistic=6.324748040313554, pvalue=0.0049302919205628576)"
      ]
     },
     "execution_count": 171,
     "metadata": {},
     "output_type": "execute_result"
    }
   ],
   "source": [
    "a = [13, 8, 11, 12, 11]\n",
    "b = [15, 10, 16, 11, 13, 10]\n",
    "c = [5, 11, 9, 5]\n",
    "d = [8, 10, 6, 5, 7]\n",
    "\n",
    "stats.f_oneway(a , b , c, d)"
   ]
  },
  {
   "cell_type": "code",
   "execution_count": 172,
   "metadata": {},
   "outputs": [
    {
     "data": {
      "text/plain": [
       "F_onewayResult(statistic=1.8263524159663869, pvalue=0.20659122081429684)"
      ]
     },
     "execution_count": 172,
     "metadata": {},
     "output_type": "execute_result"
    }
   ],
   "source": [
    "saurav = [300, 400, 300, 500, 50]\n",
    "naveen = [600, 300, 300, 400]\n",
    "radha = [700, 300, 400, 600, 500]\n",
    "\n",
    "stats.f_oneway(saurav , naveen , radha)"
   ]
  },
  {
   "cell_type": "code",
   "execution_count": 173,
   "metadata": {},
   "outputs": [
    {
     "data": {
      "text/plain": [
       "F_onewayResult(statistic=2.4686944536875277, pvalue=0.10782985675757563)"
      ]
     },
     "execution_count": 173,
     "metadata": {},
     "output_type": "execute_result"
    }
   ],
   "source": [
    "cars = [19.9, 15.3, 2.2, 6.8, 34.2, 8.3, 12.0, 7.0, 9.5, 1.1]\n",
    "buses = [1.8, 24.6, 7.2, 37.0, 7.2, 21.2, 6.5, 23.6]\n",
    "trucks = [13.3, 23.0, 25.4, 15.3, 57.1, 14.5, 26.0]\n",
    "\n",
    "stats.f_oneway(cars , buses , trucks)"
   ]
  },
  {
   "cell_type": "code",
   "execution_count": 180,
   "metadata": {},
   "outputs": [
    {
     "name": "stdout",
     "output_type": "stream",
     "text": [
      "          head  tail\n",
      "observed    48    52\n",
      "expected    50    50\n"
     ]
    },
    {
     "data": {
      "text/plain": [
       "Chi2ContingencyResult(statistic=0.02000800320128051, pvalue=0.8875147342891505, dof=1, expected_freq=array([[49., 51.],\n",
       "       [49., 51.]]))"
      ]
     },
     "execution_count": 180,
     "metadata": {},
     "output_type": "execute_result"
    }
   ],
   "source": [
    "data = {\n",
    "    \"observed\": [48 , 52],\n",
    "    \"expected\": [50 , 50]\n",
    "}\n",
    "index = ['head' , 'tail']\n",
    "contingency_table = pd.DataFrame(data , index = index).T\n",
    "print(f'{contingency_table}')\n",
    "stats.chi2_contingency(contingency_table)"
   ]
  },
  {
   "cell_type": "code",
   "execution_count": 181,
   "metadata": {},
   "outputs": [
    {
     "data": {
      "text/plain": [
       "Power_divergenceResult(statistic=0.16, pvalue=0.6891565167793516)"
      ]
     },
     "execution_count": 181,
     "metadata": {},
     "output_type": "execute_result"
    }
   ],
   "source": [
    "stats.chisquare(f_obs= data['observed'] , f_exp= data['expected'])"
   ]
  },
  {
   "cell_type": "code",
   "execution_count": 184,
   "metadata": {},
   "outputs": [
    {
     "data": {
      "text/plain": [
       "Power_divergenceResult(statistic=15.166666666666666, pvalue=0.0005088621855732918)"
      ]
     },
     "execution_count": 184,
     "metadata": {},
     "output_type": "execute_result"
    }
   ],
   "source": [
    "observed = [30 ,85 , 85]\n",
    "osum = np.sum(observed)\n",
    "expected = [round(.2 * osum) , round(.5 * osum) , round(.3 * osum)]\n",
    "\n",
    "stats.chisquare(f_obs= observed , f_exp= expected)"
   ]
  },
  {
   "cell_type": "code",
   "execution_count": null,
   "metadata": {},
   "outputs": [],
   "source": []
  }
 ],
 "metadata": {
  "kernelspec": {
   "display_name": "tensorflow",
   "language": "python",
   "name": "python3"
  },
  "language_info": {
   "codemirror_mode": {
    "name": "ipython",
    "version": 3
   },
   "file_extension": ".py",
   "mimetype": "text/x-python",
   "name": "python",
   "nbconvert_exporter": "python",
   "pygments_lexer": "ipython3",
   "version": "3.11.9"
  }
 },
 "nbformat": 4,
 "nbformat_minor": 2
}
