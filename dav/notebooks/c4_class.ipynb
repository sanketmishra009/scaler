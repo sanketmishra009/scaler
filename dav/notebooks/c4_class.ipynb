{
  "cells": [
    {
      "cell_type": "code",
      "execution_count": 1,
      "metadata": {
        "colab": {
          "base_uri": "https://localhost:8080/"
        },
        "id": "-w0fy4AWxWzG",
        "outputId": "fdb10ca0-7af7-4e2e-e098-88e4b3fb754f"
      },
      "outputs": [
        {
          "name": "stdout",
          "output_type": "stream",
          "text": [
            "--2025-03-12 21:36:07--  https://d2beiqkhq929f0.cloudfront.net/public_assets/assets/000/101/214/original/amazon_data4.zip\n",
            "Resolving d2beiqkhq929f0.cloudfront.net (d2beiqkhq929f0.cloudfront.net)... 18.67.224.203, 18.67.224.57, 18.67.224.109, ...\n",
            "Connecting to d2beiqkhq929f0.cloudfront.net (d2beiqkhq929f0.cloudfront.net)|18.67.224.203|:443... connected.\n",
            "HTTP request sent, awaiting response... 200 OK\n",
            "Length: 1943535 (1.9M) [application/zip]\n",
            "Saving to: ‘amazon_data4.zip’\n",
            "\n",
            "amazon_data4.zip    100%[===================>]   1.85M  6.62MB/s    in 0.3s    \n",
            "\n",
            "2025-03-12 21:36:07 (6.62 MB/s) - ‘amazon_data4.zip’ saved [1943535/1943535]\n",
            "\n"
          ]
        }
      ],
      "source": [
        "!wget https://d2beiqkhq929f0.cloudfront.net/public_assets/assets/000/101/214/original/amazon_data4.zip"
      ]
    },
    {
      "cell_type": "code",
      "execution_count": 2,
      "metadata": {
        "colab": {
          "base_uri": "https://localhost:8080/"
        },
        "id": "AEhzcos2zJqu",
        "outputId": "e1ce5e0f-3e4c-427e-ed96-af63c1ec9e2f"
      },
      "outputs": [
        {
          "name": "stdout",
          "output_type": "stream",
          "text": [
            "Archive:  amazon_data4.zip\n",
            "  inflating: products.csv            \n",
            "  inflating: orders.csv              \n"
          ]
        }
      ],
      "source": [
        "!unzip amazon_data4.zip"
      ]
    },
    {
      "cell_type": "code",
      "execution_count": 3,
      "metadata": {
        "colab": {
          "base_uri": "https://localhost:8080/",
          "height": 417
        },
        "id": "qFyHMppMzOy-",
        "outputId": "66435bbc-e21a-49db-e0fd-a63533d9826d"
      },
      "outputs": [
        {
          "data": {
            "text/html": [
              "<div>\n",
              "<style scoped>\n",
              "    .dataframe tbody tr th:only-of-type {\n",
              "        vertical-align: middle;\n",
              "    }\n",
              "\n",
              "    .dataframe tbody tr th {\n",
              "        vertical-align: top;\n",
              "    }\n",
              "\n",
              "    .dataframe thead th {\n",
              "        text-align: right;\n",
              "    }\n",
              "</style>\n",
              "<table border=\"1\" class=\"dataframe\">\n",
              "  <thead>\n",
              "    <tr style=\"text-align: right;\">\n",
              "      <th></th>\n",
              "      <th>product_id</th>\n",
              "      <th>user_id</th>\n",
              "      <th>user_name</th>\n",
              "      <th>review_id</th>\n",
              "      <th>review_title</th>\n",
              "      <th>review_content</th>\n",
              "      <th>order_timestamp</th>\n",
              "    </tr>\n",
              "  </thead>\n",
              "  <tbody>\n",
              "    <tr>\n",
              "      <th>0</th>\n",
              "      <td>B07JW9H4J1</td>\n",
              "      <td>AG3D6O4STAQKAY2UVGEUV46KN35Q,AHMY5CWJMMK5BJRBB...</td>\n",
              "      <td>Manav,Adarsh gupta,Sundeep,S.Sayeed Ahmed,jasp...</td>\n",
              "      <td>R3HXWT0LRP0NMF,R2AJM3LFTLZHFO,R6AQJGUP6P86,R1K...</td>\n",
              "      <td>Satisfied,Charging is really fast,Value for mo...</td>\n",
              "      <td>Looks durable Charging is fine tooNo complains...</td>\n",
              "      <td>2023-01-01 00:00:00.000000000</td>\n",
              "    </tr>\n",
              "    <tr>\n",
              "      <th>1</th>\n",
              "      <td>B098NS6PVG</td>\n",
              "      <td>AECPFYFQVRUWC3KGNLJIOREFP5LQ,AGYYVPDD7YG7FYNBX...</td>\n",
              "      <td>ArdKn,Nirbhay kumar,Sagar Viswanathan,Asp,Plac...</td>\n",
              "      <td>RGIQEG07R9HS2,R1SMWZQ86XIN8U,R2J3Y1WL29GWDE,RY...</td>\n",
              "      <td>A Good Braided Cable for Your Type C Device,Go...</td>\n",
              "      <td>I ordered this cable to connect my phone to An...</td>\n",
              "      <td>2023-01-01 05:58:01.967213114</td>\n",
              "    </tr>\n",
              "    <tr>\n",
              "      <th>2</th>\n",
              "      <td>B096MSW6CT</td>\n",
              "      <td>AGU3BBQ2V2DDAMOAKGFAWDDQ6QHA,AESFLDV2PT363T2AQ...</td>\n",
              "      <td>Kunal,Himanshu,viswanath,sai niharka,saqib mal...</td>\n",
              "      <td>R3J3EQQ9TZI5ZJ,R3E7WBGK7ID0KV,RWU79XKQ6I1QF,R2...</td>\n",
              "      <td>Good speed for earlier versions,Good Product,W...</td>\n",
              "      <td>Not quite durable and sturdy,https://m.media-a...</td>\n",
              "      <td>2023-01-01 11:56:03.934426229</td>\n",
              "    </tr>\n",
              "    <tr>\n",
              "      <th>3</th>\n",
              "      <td>B08HDJ86NZ</td>\n",
              "      <td>AEWAZDZZJLQUYVOVGBEUKSLXHQ5A,AG5HTSFRRE6NL3M5S...</td>\n",
              "      <td>Omkar dhale,JD,HEMALATHA,Ajwadh a.,amar singh ...</td>\n",
              "      <td>R3EEUZKKK9J36I,R3HJVYCLYOY554,REDECAZ7AMPQC,R1...</td>\n",
              "      <td>Good product,Good one,Nice,Really nice product...</td>\n",
              "      <td>Good product,long wire,Charges good,Nice,I bou...</td>\n",
              "      <td>2023-01-01 17:54:05.901639344</td>\n",
              "    </tr>\n",
              "    <tr>\n",
              "      <th>4</th>\n",
              "      <td>B08CF3B7N1</td>\n",
              "      <td>AE3Q6KSUK5P75D5HFYHCRAOLODSA,AFUGIFH5ZAFXRDSZH...</td>\n",
              "      <td>rahuls6099,Swasat Borah,Ajay Wadke,Pranali,RVK...</td>\n",
              "      <td>R1BP4L2HH9TFUP,R16PVJEXKV6QZS,R2UPDB81N66T4P,R...</td>\n",
              "      <td>As good as original,Decent,Good one for second...</td>\n",
              "      <td>Bought this instead of original apple, does th...</td>\n",
              "      <td>2023-01-01 23:52:07.868852459</td>\n",
              "    </tr>\n",
              "  </tbody>\n",
              "</table>\n",
              "</div>"
            ],
            "text/plain": [
              "   product_id                                            user_id  \\\n",
              "0  B07JW9H4J1  AG3D6O4STAQKAY2UVGEUV46KN35Q,AHMY5CWJMMK5BJRBB...   \n",
              "1  B098NS6PVG  AECPFYFQVRUWC3KGNLJIOREFP5LQ,AGYYVPDD7YG7FYNBX...   \n",
              "2  B096MSW6CT  AGU3BBQ2V2DDAMOAKGFAWDDQ6QHA,AESFLDV2PT363T2AQ...   \n",
              "3  B08HDJ86NZ  AEWAZDZZJLQUYVOVGBEUKSLXHQ5A,AG5HTSFRRE6NL3M5S...   \n",
              "4  B08CF3B7N1  AE3Q6KSUK5P75D5HFYHCRAOLODSA,AFUGIFH5ZAFXRDSZH...   \n",
              "\n",
              "                                           user_name  \\\n",
              "0  Manav,Adarsh gupta,Sundeep,S.Sayeed Ahmed,jasp...   \n",
              "1  ArdKn,Nirbhay kumar,Sagar Viswanathan,Asp,Plac...   \n",
              "2  Kunal,Himanshu,viswanath,sai niharka,saqib mal...   \n",
              "3  Omkar dhale,JD,HEMALATHA,Ajwadh a.,amar singh ...   \n",
              "4  rahuls6099,Swasat Borah,Ajay Wadke,Pranali,RVK...   \n",
              "\n",
              "                                           review_id  \\\n",
              "0  R3HXWT0LRP0NMF,R2AJM3LFTLZHFO,R6AQJGUP6P86,R1K...   \n",
              "1  RGIQEG07R9HS2,R1SMWZQ86XIN8U,R2J3Y1WL29GWDE,RY...   \n",
              "2  R3J3EQQ9TZI5ZJ,R3E7WBGK7ID0KV,RWU79XKQ6I1QF,R2...   \n",
              "3  R3EEUZKKK9J36I,R3HJVYCLYOY554,REDECAZ7AMPQC,R1...   \n",
              "4  R1BP4L2HH9TFUP,R16PVJEXKV6QZS,R2UPDB81N66T4P,R...   \n",
              "\n",
              "                                        review_title  \\\n",
              "0  Satisfied,Charging is really fast,Value for mo...   \n",
              "1  A Good Braided Cable for Your Type C Device,Go...   \n",
              "2  Good speed for earlier versions,Good Product,W...   \n",
              "3  Good product,Good one,Nice,Really nice product...   \n",
              "4  As good as original,Decent,Good one for second...   \n",
              "\n",
              "                                      review_content  \\\n",
              "0  Looks durable Charging is fine tooNo complains...   \n",
              "1  I ordered this cable to connect my phone to An...   \n",
              "2  Not quite durable and sturdy,https://m.media-a...   \n",
              "3  Good product,long wire,Charges good,Nice,I bou...   \n",
              "4  Bought this instead of original apple, does th...   \n",
              "\n",
              "                 order_timestamp  \n",
              "0  2023-01-01 00:00:00.000000000  \n",
              "1  2023-01-01 05:58:01.967213114  \n",
              "2  2023-01-01 11:56:03.934426229  \n",
              "3  2023-01-01 17:54:05.901639344  \n",
              "4  2023-01-01 23:52:07.868852459  "
            ]
          },
          "execution_count": 3,
          "metadata": {},
          "output_type": "execute_result"
        }
      ],
      "source": [
        "import pandas as pd\n",
        "\n",
        "orders = pd.read_csv('orders.csv')\n",
        "orders.head()"
      ]
    },
    {
      "cell_type": "code",
      "execution_count": 4,
      "metadata": {
        "colab": {
          "base_uri": "https://localhost:8080/",
          "height": 521
        },
        "id": "0e5cS8fozhTj",
        "outputId": "9ef69c3b-273d-4965-8e6f-f38fad3ef7f3"
      },
      "outputs": [
        {
          "data": {
            "text/html": [
              "<div>\n",
              "<style scoped>\n",
              "    .dataframe tbody tr th:only-of-type {\n",
              "        vertical-align: middle;\n",
              "    }\n",
              "\n",
              "    .dataframe tbody tr th {\n",
              "        vertical-align: top;\n",
              "    }\n",
              "\n",
              "    .dataframe thead th {\n",
              "        text-align: right;\n",
              "    }\n",
              "</style>\n",
              "<table border=\"1\" class=\"dataframe\">\n",
              "  <thead>\n",
              "    <tr style=\"text-align: right;\">\n",
              "      <th></th>\n",
              "      <th>product_id</th>\n",
              "      <th>product_name</th>\n",
              "      <th>category</th>\n",
              "      <th>discounted_price</th>\n",
              "      <th>actual_price</th>\n",
              "      <th>rating</th>\n",
              "      <th>rating_count</th>\n",
              "      <th>about_product</th>\n",
              "      <th>img_link</th>\n",
              "      <th>product_link</th>\n",
              "    </tr>\n",
              "  </thead>\n",
              "  <tbody>\n",
              "    <tr>\n",
              "      <th>0</th>\n",
              "      <td>B07JW9H4J1</td>\n",
              "      <td>Wayona Nylon Braided USB to Lightning Fast Cha...</td>\n",
              "      <td>Computers&amp;Accessories</td>\n",
              "      <td>₹399</td>\n",
              "      <td>₹1,099</td>\n",
              "      <td>4.2</td>\n",
              "      <td>24269.0</td>\n",
              "      <td>High Compatibility : Compatible With iPhone 12...</td>\n",
              "      <td>https://m.media-amazon.com/images/W/WEBP_40237...</td>\n",
              "      <td>https://www.amazon.in/Wayona-Braided-WN3LG1-Sy...</td>\n",
              "    </tr>\n",
              "    <tr>\n",
              "      <th>1</th>\n",
              "      <td>B098NS6PVG</td>\n",
              "      <td>Ambrane Unbreakable 60W / 3A Fast Charging 1.5...</td>\n",
              "      <td>Computers&amp;Accessories</td>\n",
              "      <td>₹199</td>\n",
              "      <td>₹349</td>\n",
              "      <td>4.0</td>\n",
              "      <td>43994.0</td>\n",
              "      <td>Compatible with all Type C enabled devices, be...</td>\n",
              "      <td>https://m.media-amazon.com/images/W/WEBP_40237...</td>\n",
              "      <td>https://www.amazon.in/Ambrane-Unbreakable-Char...</td>\n",
              "    </tr>\n",
              "    <tr>\n",
              "      <th>2</th>\n",
              "      <td>B096MSW6CT</td>\n",
              "      <td>Sounce Fast Phone Charging Cable &amp; Data Sync U...</td>\n",
              "      <td>Computers&amp;Accessories</td>\n",
              "      <td>₹199</td>\n",
              "      <td>₹1,899</td>\n",
              "      <td>3.9</td>\n",
              "      <td>7928.0</td>\n",
              "      <td>【 Fast Charger&amp; Data Sync】-With built-in safet...</td>\n",
              "      <td>https://m.media-amazon.com/images/W/WEBP_40237...</td>\n",
              "      <td>https://www.amazon.in/Sounce-iPhone-Charging-C...</td>\n",
              "    </tr>\n",
              "    <tr>\n",
              "      <th>3</th>\n",
              "      <td>B08HDJ86NZ</td>\n",
              "      <td>boAt Deuce USB 300 2 in 1 Type-C &amp; Micro USB S...</td>\n",
              "      <td>Computers&amp;Accessories</td>\n",
              "      <td>₹329</td>\n",
              "      <td>₹699</td>\n",
              "      <td>4.2</td>\n",
              "      <td>94363.0</td>\n",
              "      <td>The boAt Deuce USB 300 2 in 1 cable is compati...</td>\n",
              "      <td>https://m.media-amazon.com/images/I/41V5FtEWPk...</td>\n",
              "      <td>https://www.amazon.in/Deuce-300-Resistant-Tang...</td>\n",
              "    </tr>\n",
              "    <tr>\n",
              "      <th>4</th>\n",
              "      <td>B08CF3B7N1</td>\n",
              "      <td>Portronics Konnect L 1.2M Fast Charging 3A 8 P...</td>\n",
              "      <td>Computers&amp;Accessories</td>\n",
              "      <td>₹154</td>\n",
              "      <td>₹399</td>\n",
              "      <td>4.2</td>\n",
              "      <td>16905.0</td>\n",
              "      <td>[CHARGE &amp; SYNC FUNCTION]- This cable comes wit...</td>\n",
              "      <td>https://m.media-amazon.com/images/W/WEBP_40237...</td>\n",
              "      <td>https://www.amazon.in/Portronics-Konnect-POR-1...</td>\n",
              "    </tr>\n",
              "  </tbody>\n",
              "</table>\n",
              "</div>"
            ],
            "text/plain": [
              "   product_id                                       product_name  \\\n",
              "0  B07JW9H4J1  Wayona Nylon Braided USB to Lightning Fast Cha...   \n",
              "1  B098NS6PVG  Ambrane Unbreakable 60W / 3A Fast Charging 1.5...   \n",
              "2  B096MSW6CT  Sounce Fast Phone Charging Cable & Data Sync U...   \n",
              "3  B08HDJ86NZ  boAt Deuce USB 300 2 in 1 Type-C & Micro USB S...   \n",
              "4  B08CF3B7N1  Portronics Konnect L 1.2M Fast Charging 3A 8 P...   \n",
              "\n",
              "                category discounted_price actual_price  rating  rating_count  \\\n",
              "0  Computers&Accessories             ₹399       ₹1,099     4.2       24269.0   \n",
              "1  Computers&Accessories             ₹199         ₹349     4.0       43994.0   \n",
              "2  Computers&Accessories             ₹199       ₹1,899     3.9        7928.0   \n",
              "3  Computers&Accessories             ₹329         ₹699     4.2       94363.0   \n",
              "4  Computers&Accessories             ₹154         ₹399     4.2       16905.0   \n",
              "\n",
              "                                       about_product  \\\n",
              "0  High Compatibility : Compatible With iPhone 12...   \n",
              "1  Compatible with all Type C enabled devices, be...   \n",
              "2  【 Fast Charger& Data Sync】-With built-in safet...   \n",
              "3  The boAt Deuce USB 300 2 in 1 cable is compati...   \n",
              "4  [CHARGE & SYNC FUNCTION]- This cable comes wit...   \n",
              "\n",
              "                                            img_link  \\\n",
              "0  https://m.media-amazon.com/images/W/WEBP_40237...   \n",
              "1  https://m.media-amazon.com/images/W/WEBP_40237...   \n",
              "2  https://m.media-amazon.com/images/W/WEBP_40237...   \n",
              "3  https://m.media-amazon.com/images/I/41V5FtEWPk...   \n",
              "4  https://m.media-amazon.com/images/W/WEBP_40237...   \n",
              "\n",
              "                                        product_link  \n",
              "0  https://www.amazon.in/Wayona-Braided-WN3LG1-Sy...  \n",
              "1  https://www.amazon.in/Ambrane-Unbreakable-Char...  \n",
              "2  https://www.amazon.in/Sounce-iPhone-Charging-C...  \n",
              "3  https://www.amazon.in/Deuce-300-Resistant-Tang...  \n",
              "4  https://www.amazon.in/Portronics-Konnect-POR-1...  "
            ]
          },
          "execution_count": 4,
          "metadata": {},
          "output_type": "execute_result"
        }
      ],
      "source": [
        "products = pd.read_csv('products.csv')\n",
        "products.head()"
      ]
    },
    {
      "cell_type": "markdown",
      "metadata": {
        "id": "OdJfHX3Uz2l9"
      },
      "source": [
        "<img src=\"https://d2beiqkhq929f0.cloudfront.net/public_assets/assets/000/065/708/original/d1.png?1708409121\" width=635 height=250/>\n"
      ]
    },
    {
      "cell_type": "code",
      "execution_count": null,
      "metadata": {
        "id": "MCSyYTm90Uqt"
      },
      "outputs": [],
      "source": []
    },
    {
      "cell_type": "code",
      "execution_count": 5,
      "metadata": {
        "id": "PRKCi5W5zqGs"
      },
      "outputs": [],
      "source": [
        "# Import pandas\n",
        "import pandas as pd\n",
        "\n",
        "# Sample DataFrames\n",
        "samples_orders = pd.DataFrame({\n",
        "    'product_id': ['P001', 'P002', 'P003'],\n",
        "    'user_id': ['U001', 'U002', 'U003'],\n",
        "    'review_id': ['R001', 'R002', 'R003']\n",
        "})"
      ]
    },
    {
      "cell_type": "code",
      "execution_count": 6,
      "metadata": {
        "id": "31IAnbQb0GRC"
      },
      "outputs": [],
      "source": [
        "samples_products = pd.DataFrame({\n",
        "    'product_id': ['P001', 'P002', 'P004'],\n",
        "    'product_name': ['Product A', 'Product B', 'Product D'],\n",
        "    'category': ['Category 1', 'Category 2', 'Category 3']\n",
        "})"
      ]
    },
    {
      "cell_type": "markdown",
      "metadata": {
        "id": "LbvWl3dz01MK"
      },
      "source": [
        "<img src=\"https://d2beiqkhq929f0.cloudfront.net/public_assets/assets/000/065/709/original/d2.png?1708409138\" height=200/>\n"
      ]
    },
    {
      "cell_type": "markdown",
      "metadata": {
        "id": "-46tHeju09oD"
      },
      "source": [
        "<img src=\"https://d2beiqkhq929f0.cloudfront.net/public_assets/assets/000/065/710/original/joins.webp?1708409218\">\n"
      ]
    },
    {
      "cell_type": "code",
      "execution_count": 7,
      "metadata": {
        "colab": {
          "base_uri": "https://localhost:8080/",
          "height": 143
        },
        "id": "NUco22860IZT",
        "outputId": "fa00bd48-5bd4-4cae-c4ee-f4315b78dbdf"
      },
      "outputs": [
        {
          "data": {
            "text/html": [
              "<div>\n",
              "<style scoped>\n",
              "    .dataframe tbody tr th:only-of-type {\n",
              "        vertical-align: middle;\n",
              "    }\n",
              "\n",
              "    .dataframe tbody tr th {\n",
              "        vertical-align: top;\n",
              "    }\n",
              "\n",
              "    .dataframe thead th {\n",
              "        text-align: right;\n",
              "    }\n",
              "</style>\n",
              "<table border=\"1\" class=\"dataframe\">\n",
              "  <thead>\n",
              "    <tr style=\"text-align: right;\">\n",
              "      <th></th>\n",
              "      <th>product_id</th>\n",
              "      <th>product_name</th>\n",
              "      <th>category</th>\n",
              "    </tr>\n",
              "  </thead>\n",
              "  <tbody>\n",
              "    <tr>\n",
              "      <th>0</th>\n",
              "      <td>P001</td>\n",
              "      <td>Product A</td>\n",
              "      <td>Category 1</td>\n",
              "    </tr>\n",
              "    <tr>\n",
              "      <th>1</th>\n",
              "      <td>P002</td>\n",
              "      <td>Product B</td>\n",
              "      <td>Category 2</td>\n",
              "    </tr>\n",
              "    <tr>\n",
              "      <th>2</th>\n",
              "      <td>P004</td>\n",
              "      <td>Product D</td>\n",
              "      <td>Category 3</td>\n",
              "    </tr>\n",
              "  </tbody>\n",
              "</table>\n",
              "</div>"
            ],
            "text/plain": [
              "  product_id product_name    category\n",
              "0       P001    Product A  Category 1\n",
              "1       P002    Product B  Category 2\n",
              "2       P004    Product D  Category 3"
            ]
          },
          "execution_count": 7,
          "metadata": {},
          "output_type": "execute_result"
        }
      ],
      "source": [
        "samples_products"
      ]
    },
    {
      "cell_type": "code",
      "execution_count": 8,
      "metadata": {
        "colab": {
          "base_uri": "https://localhost:8080/",
          "height": 143
        },
        "id": "75p5dTq-0MCW",
        "outputId": "508717f3-e960-44f9-ade5-ce994ea6d312"
      },
      "outputs": [
        {
          "data": {
            "text/html": [
              "<div>\n",
              "<style scoped>\n",
              "    .dataframe tbody tr th:only-of-type {\n",
              "        vertical-align: middle;\n",
              "    }\n",
              "\n",
              "    .dataframe tbody tr th {\n",
              "        vertical-align: top;\n",
              "    }\n",
              "\n",
              "    .dataframe thead th {\n",
              "        text-align: right;\n",
              "    }\n",
              "</style>\n",
              "<table border=\"1\" class=\"dataframe\">\n",
              "  <thead>\n",
              "    <tr style=\"text-align: right;\">\n",
              "      <th></th>\n",
              "      <th>product_id</th>\n",
              "      <th>user_id</th>\n",
              "      <th>review_id</th>\n",
              "    </tr>\n",
              "  </thead>\n",
              "  <tbody>\n",
              "    <tr>\n",
              "      <th>0</th>\n",
              "      <td>P001</td>\n",
              "      <td>U001</td>\n",
              "      <td>R001</td>\n",
              "    </tr>\n",
              "    <tr>\n",
              "      <th>1</th>\n",
              "      <td>P002</td>\n",
              "      <td>U002</td>\n",
              "      <td>R002</td>\n",
              "    </tr>\n",
              "    <tr>\n",
              "      <th>2</th>\n",
              "      <td>P003</td>\n",
              "      <td>U003</td>\n",
              "      <td>R003</td>\n",
              "    </tr>\n",
              "  </tbody>\n",
              "</table>\n",
              "</div>"
            ],
            "text/plain": [
              "  product_id user_id review_id\n",
              "0       P001    U001      R001\n",
              "1       P002    U002      R002\n",
              "2       P003    U003      R003"
            ]
          },
          "execution_count": 8,
          "metadata": {},
          "output_type": "execute_result"
        }
      ],
      "source": [
        "samples_orders"
      ]
    },
    {
      "cell_type": "code",
      "execution_count": 9,
      "metadata": {
        "colab": {
          "base_uri": "https://localhost:8080/"
        },
        "id": "dxB9NUO72eVH",
        "outputId": "ce7941b4-3f24-46fc-bd3c-fe43f03b8f8b"
      },
      "outputs": [
        {
          "name": "stdout",
          "output_type": "stream",
          "text": [
            "\n",
            "Right Join:\n",
            "  product_id user_id review_id product_name    category\n",
            "0       P001    U001      R001    Product A  Category 1\n",
            "1       P002    U002      R002    Product B  Category 2\n",
            "2       P004     NaN       NaN    Product D  Category 3\n"
          ]
        }
      ],
      "source": [
        "right_join = pd.merge(samples_orders, samples_products, on='product_id', how='right')\n",
        "print(\"\\nRight Join:\")\n",
        "print(right_join)"
      ]
    },
    {
      "cell_type": "code",
      "execution_count": 10,
      "metadata": {
        "colab": {
          "base_uri": "https://localhost:8080/"
        },
        "id": "UD9fohyF2GEm",
        "outputId": "eec9acd5-e26e-450b-bcab-f55a9d27715d"
      },
      "outputs": [
        {
          "name": "stdout",
          "output_type": "stream",
          "text": [
            "\n",
            "Left Join:\n",
            "  product_id user_id review_id product_name    category\n",
            "0       P001    U001      R001    Product A  Category 1\n",
            "1       P002    U002      R002    Product B  Category 2\n",
            "2       P003    U003      R003          NaN         NaN\n"
          ]
        }
      ],
      "source": [
        "left_join = pd.merge(samples_orders, samples_products, on='product_id', how='left')\n",
        "print(\"\\nLeft Join:\")\n",
        "print(left_join)"
      ]
    },
    {
      "cell_type": "code",
      "execution_count": 11,
      "metadata": {
        "colab": {
          "base_uri": "https://localhost:8080/"
        },
        "id": "3iyTg64K1wE3",
        "outputId": "8311a700-f76e-4bf7-e487-5fa4dd7f83af"
      },
      "outputs": [
        {
          "name": "stdout",
          "output_type": "stream",
          "text": [
            "\n",
            "Outer Join:\n",
            "  product_id user_id review_id product_name    category\n",
            "0       P001    U001      R001    Product A  Category 1\n",
            "1       P002    U002      R002    Product B  Category 2\n",
            "2       P003    U003      R003          NaN         NaN\n",
            "3       P004     NaN       NaN    Product D  Category 3\n"
          ]
        }
      ],
      "source": [
        "outer_join = pd.merge(samples_orders,\n",
        "                      samples_products, on='product_id', how='outer')\n",
        "print(\"\\nOuter Join:\")\n",
        "print(outer_join)"
      ]
    },
    {
      "cell_type": "code",
      "execution_count": 12,
      "metadata": {
        "colab": {
          "base_uri": "https://localhost:8080/"
        },
        "id": "bumYkv8g0N0V",
        "outputId": "14e81787-59ad-4f3c-87f4-d8388e98d12d"
      },
      "outputs": [
        {
          "name": "stdout",
          "output_type": "stream",
          "text": [
            "Inner Join:\n",
            "  product_id user_id review_id product_name    category\n",
            "0       P001    U001      R001    Product A  Category 1\n",
            "1       P002    U002      R002    Product B  Category 2\n"
          ]
        }
      ],
      "source": [
        "inner_join = pd.merge(samples_orders, samples_products, on='product_id', how='inner')\n",
        "print(\"Inner Join:\")\n",
        "print(inner_join)"
      ]
    },
    {
      "cell_type": "code",
      "execution_count": 13,
      "metadata": {
        "colab": {
          "base_uri": "https://localhost:8080/",
          "height": 503
        },
        "id": "UcljbE_51neZ",
        "outputId": "bf337ce0-59f6-4df7-b90f-f5518a65d59a"
      },
      "outputs": [
        {
          "name": "stdout",
          "output_type": "stream",
          "text": [
            "Best Join (Left Join) for Our Use Case:\n"
          ]
        },
        {
          "data": {
            "text/html": [
              "<div>\n",
              "<style scoped>\n",
              "    .dataframe tbody tr th:only-of-type {\n",
              "        vertical-align: middle;\n",
              "    }\n",
              "\n",
              "    .dataframe tbody tr th {\n",
              "        vertical-align: top;\n",
              "    }\n",
              "\n",
              "    .dataframe thead th {\n",
              "        text-align: right;\n",
              "    }\n",
              "</style>\n",
              "<table border=\"1\" class=\"dataframe\">\n",
              "  <thead>\n",
              "    <tr style=\"text-align: right;\">\n",
              "      <th></th>\n",
              "      <th>product_id</th>\n",
              "      <th>user_id</th>\n",
              "      <th>user_name</th>\n",
              "      <th>review_id</th>\n",
              "      <th>review_title</th>\n",
              "      <th>review_content</th>\n",
              "      <th>order_timestamp</th>\n",
              "      <th>product_name</th>\n",
              "      <th>category</th>\n",
              "      <th>discounted_price</th>\n",
              "      <th>actual_price</th>\n",
              "      <th>rating</th>\n",
              "      <th>rating_count</th>\n",
              "      <th>about_product</th>\n",
              "      <th>img_link</th>\n",
              "      <th>product_link</th>\n",
              "    </tr>\n",
              "  </thead>\n",
              "  <tbody>\n",
              "    <tr>\n",
              "      <th>0</th>\n",
              "      <td>B07JW9H4J1</td>\n",
              "      <td>AG3D6O4STAQKAY2UVGEUV46KN35Q,AHMY5CWJMMK5BJRBB...</td>\n",
              "      <td>Manav,Adarsh gupta,Sundeep,S.Sayeed Ahmed,jasp...</td>\n",
              "      <td>R3HXWT0LRP0NMF,R2AJM3LFTLZHFO,R6AQJGUP6P86,R1K...</td>\n",
              "      <td>Satisfied,Charging is really fast,Value for mo...</td>\n",
              "      <td>Looks durable Charging is fine tooNo complains...</td>\n",
              "      <td>2023-01-01 00:00:00.000000000</td>\n",
              "      <td>Wayona Nylon Braided USB to Lightning Fast Cha...</td>\n",
              "      <td>Computers&amp;Accessories</td>\n",
              "      <td>₹399</td>\n",
              "      <td>₹1,099</td>\n",
              "      <td>4.2</td>\n",
              "      <td>24269.0</td>\n",
              "      <td>High Compatibility : Compatible With iPhone 12...</td>\n",
              "      <td>https://m.media-amazon.com/images/W/WEBP_40237...</td>\n",
              "      <td>https://www.amazon.in/Wayona-Braided-WN3LG1-Sy...</td>\n",
              "    </tr>\n",
              "    <tr>\n",
              "      <th>1</th>\n",
              "      <td>B07JW9H4J1</td>\n",
              "      <td>AG3D6O4STAQKAY2UVGEUV46KN35Q,AHMY5CWJMMK5BJRBB...</td>\n",
              "      <td>Manav,Adarsh gupta,Sundeep,S.Sayeed Ahmed,jasp...</td>\n",
              "      <td>R3HXWT0LRP0NMF,R2AJM3LFTLZHFO,R6AQJGUP6P86,R1K...</td>\n",
              "      <td>Satisfied,Charging is really fast,Value for mo...</td>\n",
              "      <td>Looks durable Charging is fine tooNo complains...</td>\n",
              "      <td>2023-01-01 00:00:00.000000000</td>\n",
              "      <td>Wayona Nylon Braided USB to Lightning Fast Cha...</td>\n",
              "      <td>Computers&amp;Accessories</td>\n",
              "      <td>₹399</td>\n",
              "      <td>₹1,099</td>\n",
              "      <td>4.2</td>\n",
              "      <td>24270.0</td>\n",
              "      <td>High Compatibility : Compatible With iPhone 12...</td>\n",
              "      <td>https://m.media-amazon.com/images/I/51UsScvHQN...</td>\n",
              "      <td>https://www.amazon.in/Wayona-Braided-WN3LG1-Sy...</td>\n",
              "    </tr>\n",
              "    <tr>\n",
              "      <th>2</th>\n",
              "      <td>B07JW9H4J1</td>\n",
              "      <td>AG3D6O4STAQKAY2UVGEUV46KN35Q,AHMY5CWJMMK5BJRBB...</td>\n",
              "      <td>Manav,Adarsh gupta,Sundeep,S.Sayeed Ahmed,jasp...</td>\n",
              "      <td>R3HXWT0LRP0NMF,R2AJM3LFTLZHFO,R6AQJGUP6P86,R1K...</td>\n",
              "      <td>Satisfied,Charging is really fast,Value for mo...</td>\n",
              "      <td>Looks durable Charging is fine tooNo complains...</td>\n",
              "      <td>2023-01-01 00:00:00.000000000</td>\n",
              "      <td>Wayona Nylon Braided USB to Lightning Fast Cha...</td>\n",
              "      <td>Computers&amp;Accessories</td>\n",
              "      <td>₹399</td>\n",
              "      <td>₹1,099</td>\n",
              "      <td>4.2</td>\n",
              "      <td>24269.0</td>\n",
              "      <td>High Compatibility : Compatible With iPhone 12...</td>\n",
              "      <td>https://m.media-amazon.com/images/W/WEBP_40237...</td>\n",
              "      <td>https://www.amazon.in/Wayona-Braided-WN3LG1-Sy...</td>\n",
              "    </tr>\n",
              "    <tr>\n",
              "      <th>3</th>\n",
              "      <td>B098NS6PVG</td>\n",
              "      <td>AECPFYFQVRUWC3KGNLJIOREFP5LQ,AGYYVPDD7YG7FYNBX...</td>\n",
              "      <td>ArdKn,Nirbhay kumar,Sagar Viswanathan,Asp,Plac...</td>\n",
              "      <td>RGIQEG07R9HS2,R1SMWZQ86XIN8U,R2J3Y1WL29GWDE,RY...</td>\n",
              "      <td>A Good Braided Cable for Your Type C Device,Go...</td>\n",
              "      <td>I ordered this cable to connect my phone to An...</td>\n",
              "      <td>2023-01-01 05:58:01.967213114</td>\n",
              "      <td>Ambrane Unbreakable 60W / 3A Fast Charging 1.5...</td>\n",
              "      <td>Computers&amp;Accessories</td>\n",
              "      <td>₹199</td>\n",
              "      <td>₹349</td>\n",
              "      <td>4.0</td>\n",
              "      <td>43994.0</td>\n",
              "      <td>Compatible with all Type C enabled devices, be...</td>\n",
              "      <td>https://m.media-amazon.com/images/W/WEBP_40237...</td>\n",
              "      <td>https://www.amazon.in/Ambrane-Unbreakable-Char...</td>\n",
              "    </tr>\n",
              "    <tr>\n",
              "      <th>4</th>\n",
              "      <td>B098NS6PVG</td>\n",
              "      <td>AECPFYFQVRUWC3KGNLJIOREFP5LQ,AGYYVPDD7YG7FYNBX...</td>\n",
              "      <td>ArdKn,Nirbhay kumar,Sagar Viswanathan,Asp,Plac...</td>\n",
              "      <td>RGIQEG07R9HS2,R1SMWZQ86XIN8U,R2J3Y1WL29GWDE,RY...</td>\n",
              "      <td>A Good Braided Cable for Your Type C Device,Go...</td>\n",
              "      <td>I ordered this cable to connect my phone to An...</td>\n",
              "      <td>2023-01-01 05:58:01.967213114</td>\n",
              "      <td>Ambrane Unbreakable 60W / 3A Fast Charging 1.5...</td>\n",
              "      <td>Computers&amp;Accessories</td>\n",
              "      <td>₹199</td>\n",
              "      <td>₹349</td>\n",
              "      <td>4.0</td>\n",
              "      <td>43993.0</td>\n",
              "      <td>Compatible with all Type C enabled devices, be...</td>\n",
              "      <td>https://m.media-amazon.com/images/I/31zOsqQOAO...</td>\n",
              "      <td>https://www.amazon.in/Ambrane-Unbreakable-Char...</td>\n",
              "    </tr>\n",
              "  </tbody>\n",
              "</table>\n",
              "</div>"
            ],
            "text/plain": [
              "   product_id                                            user_id  \\\n",
              "0  B07JW9H4J1  AG3D6O4STAQKAY2UVGEUV46KN35Q,AHMY5CWJMMK5BJRBB...   \n",
              "1  B07JW9H4J1  AG3D6O4STAQKAY2UVGEUV46KN35Q,AHMY5CWJMMK5BJRBB...   \n",
              "2  B07JW9H4J1  AG3D6O4STAQKAY2UVGEUV46KN35Q,AHMY5CWJMMK5BJRBB...   \n",
              "3  B098NS6PVG  AECPFYFQVRUWC3KGNLJIOREFP5LQ,AGYYVPDD7YG7FYNBX...   \n",
              "4  B098NS6PVG  AECPFYFQVRUWC3KGNLJIOREFP5LQ,AGYYVPDD7YG7FYNBX...   \n",
              "\n",
              "                                           user_name  \\\n",
              "0  Manav,Adarsh gupta,Sundeep,S.Sayeed Ahmed,jasp...   \n",
              "1  Manav,Adarsh gupta,Sundeep,S.Sayeed Ahmed,jasp...   \n",
              "2  Manav,Adarsh gupta,Sundeep,S.Sayeed Ahmed,jasp...   \n",
              "3  ArdKn,Nirbhay kumar,Sagar Viswanathan,Asp,Plac...   \n",
              "4  ArdKn,Nirbhay kumar,Sagar Viswanathan,Asp,Plac...   \n",
              "\n",
              "                                           review_id  \\\n",
              "0  R3HXWT0LRP0NMF,R2AJM3LFTLZHFO,R6AQJGUP6P86,R1K...   \n",
              "1  R3HXWT0LRP0NMF,R2AJM3LFTLZHFO,R6AQJGUP6P86,R1K...   \n",
              "2  R3HXWT0LRP0NMF,R2AJM3LFTLZHFO,R6AQJGUP6P86,R1K...   \n",
              "3  RGIQEG07R9HS2,R1SMWZQ86XIN8U,R2J3Y1WL29GWDE,RY...   \n",
              "4  RGIQEG07R9HS2,R1SMWZQ86XIN8U,R2J3Y1WL29GWDE,RY...   \n",
              "\n",
              "                                        review_title  \\\n",
              "0  Satisfied,Charging is really fast,Value for mo...   \n",
              "1  Satisfied,Charging is really fast,Value for mo...   \n",
              "2  Satisfied,Charging is really fast,Value for mo...   \n",
              "3  A Good Braided Cable for Your Type C Device,Go...   \n",
              "4  A Good Braided Cable for Your Type C Device,Go...   \n",
              "\n",
              "                                      review_content  \\\n",
              "0  Looks durable Charging is fine tooNo complains...   \n",
              "1  Looks durable Charging is fine tooNo complains...   \n",
              "2  Looks durable Charging is fine tooNo complains...   \n",
              "3  I ordered this cable to connect my phone to An...   \n",
              "4  I ordered this cable to connect my phone to An...   \n",
              "\n",
              "                 order_timestamp  \\\n",
              "0  2023-01-01 00:00:00.000000000   \n",
              "1  2023-01-01 00:00:00.000000000   \n",
              "2  2023-01-01 00:00:00.000000000   \n",
              "3  2023-01-01 05:58:01.967213114   \n",
              "4  2023-01-01 05:58:01.967213114   \n",
              "\n",
              "                                        product_name               category  \\\n",
              "0  Wayona Nylon Braided USB to Lightning Fast Cha...  Computers&Accessories   \n",
              "1  Wayona Nylon Braided USB to Lightning Fast Cha...  Computers&Accessories   \n",
              "2  Wayona Nylon Braided USB to Lightning Fast Cha...  Computers&Accessories   \n",
              "3  Ambrane Unbreakable 60W / 3A Fast Charging 1.5...  Computers&Accessories   \n",
              "4  Ambrane Unbreakable 60W / 3A Fast Charging 1.5...  Computers&Accessories   \n",
              "\n",
              "  discounted_price actual_price  rating  rating_count  \\\n",
              "0             ₹399       ₹1,099     4.2       24269.0   \n",
              "1             ₹399       ₹1,099     4.2       24270.0   \n",
              "2             ₹399       ₹1,099     4.2       24269.0   \n",
              "3             ₹199         ₹349     4.0       43994.0   \n",
              "4             ₹199         ₹349     4.0       43993.0   \n",
              "\n",
              "                                       about_product  \\\n",
              "0  High Compatibility : Compatible With iPhone 12...   \n",
              "1  High Compatibility : Compatible With iPhone 12...   \n",
              "2  High Compatibility : Compatible With iPhone 12...   \n",
              "3  Compatible with all Type C enabled devices, be...   \n",
              "4  Compatible with all Type C enabled devices, be...   \n",
              "\n",
              "                                            img_link  \\\n",
              "0  https://m.media-amazon.com/images/W/WEBP_40237...   \n",
              "1  https://m.media-amazon.com/images/I/51UsScvHQN...   \n",
              "2  https://m.media-amazon.com/images/W/WEBP_40237...   \n",
              "3  https://m.media-amazon.com/images/W/WEBP_40237...   \n",
              "4  https://m.media-amazon.com/images/I/31zOsqQOAO...   \n",
              "\n",
              "                                        product_link  \n",
              "0  https://www.amazon.in/Wayona-Braided-WN3LG1-Sy...  \n",
              "1  https://www.amazon.in/Wayona-Braided-WN3LG1-Sy...  \n",
              "2  https://www.amazon.in/Wayona-Braided-WN3LG1-Sy...  \n",
              "3  https://www.amazon.in/Ambrane-Unbreakable-Char...  \n",
              "4  https://www.amazon.in/Ambrane-Unbreakable-Char...  "
            ]
          },
          "execution_count": 13,
          "metadata": {},
          "output_type": "execute_result"
        }
      ],
      "source": [
        "# Performing a Left Join to merge orders with product details\n",
        "df = pd.merge(orders, products, on='product_id', how='left')\n",
        "\n",
        "# Displaying the result\n",
        "print(\"Best Join (Left Join) for Our Use Case:\")\n",
        "df.head()"
      ]
    },
    {
      "cell_type": "code",
      "execution_count": 14,
      "metadata": {
        "colab": {
          "base_uri": "https://localhost:8080/",
          "height": 241
        },
        "id": "MwiQNcwX3LTu",
        "outputId": "e4ed300e-cd03-4d3e-c027-fb58dd4a7b37"
      },
      "outputs": [
        {
          "data": {
            "text/plain": [
              "0    Satisfied,Charging is really fast,Value for mo...\n",
              "1    Satisfied,Charging is really fast,Value for mo...\n",
              "2    Satisfied,Charging is really fast,Value for mo...\n",
              "3    A Good Braided Cable for Your Type C Device,Go...\n",
              "4    A Good Braided Cable for Your Type C Device,Go...\n",
              "Name: review_title, dtype: object"
            ]
          },
          "execution_count": 14,
          "metadata": {},
          "output_type": "execute_result"
        }
      ],
      "source": [
        "df['review_title'].head()"
      ]
    },
    {
      "cell_type": "code",
      "execution_count": 15,
      "metadata": {
        "id": "Ap2Mvyy53kbr"
      },
      "outputs": [],
      "source": [
        "def uppers(title):\n",
        "  return title.upper()"
      ]
    },
    {
      "cell_type": "code",
      "execution_count": 16,
      "metadata": {
        "id": "EHP9c-Ue4vLW"
      },
      "outputs": [],
      "source": [
        "df['review_title_uppercase'] = df['review_title'].apply(lambda title:title.upper())"
      ]
    },
    {
      "cell_type": "markdown",
      "metadata": {
        "id": "FjueBODz4qDA"
      },
      "source": []
    },
    {
      "cell_type": "code",
      "execution_count": 17,
      "metadata": {
        "id": "FfoTrmH_31Uj"
      },
      "outputs": [],
      "source": [
        "df['review_title_uppercase'] = df['review_title'].apply(uppers)"
      ]
    },
    {
      "cell_type": "code",
      "execution_count": 18,
      "metadata": {
        "colab": {
          "base_uri": "https://localhost:8080/",
          "height": 241
        },
        "id": "msOrAv4G4DrQ",
        "outputId": "aca8e665-a620-4d58-918e-d9ba3c79f7e4"
      },
      "outputs": [
        {
          "data": {
            "text/plain": [
              "0    SATISFIED,CHARGING IS REALLY FAST,VALUE FOR MO...\n",
              "1    SATISFIED,CHARGING IS REALLY FAST,VALUE FOR MO...\n",
              "2    SATISFIED,CHARGING IS REALLY FAST,VALUE FOR MO...\n",
              "3    A GOOD BRAIDED CABLE FOR YOUR TYPE C DEVICE,GO...\n",
              "4    A GOOD BRAIDED CABLE FOR YOUR TYPE C DEVICE,GO...\n",
              "Name: review_title_uppercase, dtype: object"
            ]
          },
          "execution_count": 18,
          "metadata": {},
          "output_type": "execute_result"
        }
      ],
      "source": [
        "df['review_title_uppercase'].head()"
      ]
    },
    {
      "cell_type": "markdown",
      "metadata": {
        "id": "Swfkn9Xf5Jzz"
      },
      "source": [
        "- **Goal:** Calculate a new column `discounted_percentage` in the `products` DataFrame to determine the effective discount as a percentage.\n",
        "- **Method:** Use <font color=\"skyblue\">`.apply()`</font> with a custom function that operates on rows and calculates the discount using both `actual_price` and `discounted_price`.\n"
      ]
    },
    {
      "cell_type": "code",
      "execution_count": 19,
      "metadata": {
        "colab": {
          "base_uri": "https://localhost:8080/"
        },
        "id": "j1bHq9eb4PDN",
        "outputId": "dde9c392-ad03-4b8e-df32-9f72e3a447be"
      },
      "outputs": [
        {
          "name": "stdout",
          "output_type": "stream",
          "text": [
            "0    ₹399\n",
            "1    ₹399\n",
            "2    ₹399\n",
            "3    ₹199\n",
            "4    ₹199\n",
            "Name: discounted_price, dtype: object\n",
            "0    ₹1,099\n",
            "1    ₹1,099\n",
            "2    ₹1,099\n",
            "3      ₹349\n",
            "4      ₹349\n",
            "Name: actual_price, dtype: object\n"
          ]
        }
      ],
      "source": [
        "print(df['discounted_price'].head())\n",
        "print(df['actual_price'].head())"
      ]
    },
    {
      "cell_type": "code",
      "execution_count": 20,
      "metadata": {
        "id": "UzutVUgI5W2m"
      },
      "outputs": [],
      "source": [
        "def extract_price(price_str):\n",
        "  return float(str(price_str).replace('₹', '').replace(',', ''))"
      ]
    },
    {
      "cell_type": "code",
      "execution_count": 21,
      "metadata": {
        "id": "0tmG-aOl65mz"
      },
      "outputs": [],
      "source": [
        "df['actual_price'] = df['actual_price'].apply(extract_price)\n",
        "df['discounted_price'] = df['discounted_price'].apply(extract_price)"
      ]
    },
    {
      "cell_type": "code",
      "execution_count": 22,
      "metadata": {
        "colab": {
          "base_uri": "https://localhost:8080/"
        },
        "id": "OqpFbfo66_ah",
        "outputId": "77af4b96-0e96-49ae-8996-dbcf487de101"
      },
      "outputs": [
        {
          "name": "stdout",
          "output_type": "stream",
          "text": [
            "0    399.0\n",
            "1    399.0\n",
            "2    399.0\n",
            "3    199.0\n",
            "4    199.0\n",
            "Name: discounted_price, dtype: float64\n",
            "0    1099.0\n",
            "1    1099.0\n",
            "2    1099.0\n",
            "3     349.0\n",
            "4     349.0\n",
            "Name: actual_price, dtype: float64\n"
          ]
        }
      ],
      "source": [
        "print(df['discounted_price'].head())\n",
        "print(df['actual_price'].head())"
      ]
    },
    {
      "cell_type": "code",
      "execution_count": 23,
      "metadata": {
        "id": "0j463dC77CQQ"
      },
      "outputs": [],
      "source": [
        "def calculate_discount_percentage(moulya):\n",
        "    return ((moulya['actual_price'] - moulya['discounted_price']) / moulya['actual_price']) * 100\n"
      ]
    },
    {
      "cell_type": "code",
      "execution_count": 24,
      "metadata": {
        "id": "4tfJrtdz7bgC"
      },
      "outputs": [],
      "source": [
        "df['calculated_discount'] = df.apply(calculate_discount_percentage, axis=1)\n"
      ]
    },
    {
      "cell_type": "code",
      "execution_count": 25,
      "metadata": {
        "colab": {
          "base_uri": "https://localhost:8080/",
          "height": 223
        },
        "id": "G2YzFs6D7jMW",
        "outputId": "86585a73-ce55-40fe-d3dc-07d34e02781d"
      },
      "outputs": [
        {
          "name": "stdout",
          "output_type": "stream",
          "text": [
            "Products DataFrame with Calculated Discounts:\n"
          ]
        },
        {
          "data": {
            "text/html": [
              "<div>\n",
              "<style scoped>\n",
              "    .dataframe tbody tr th:only-of-type {\n",
              "        vertical-align: middle;\n",
              "    }\n",
              "\n",
              "    .dataframe tbody tr th {\n",
              "        vertical-align: top;\n",
              "    }\n",
              "\n",
              "    .dataframe thead th {\n",
              "        text-align: right;\n",
              "    }\n",
              "</style>\n",
              "<table border=\"1\" class=\"dataframe\">\n",
              "  <thead>\n",
              "    <tr style=\"text-align: right;\">\n",
              "      <th></th>\n",
              "      <th>product_name</th>\n",
              "      <th>actual_price</th>\n",
              "      <th>discounted_price</th>\n",
              "      <th>calculated_discount</th>\n",
              "    </tr>\n",
              "  </thead>\n",
              "  <tbody>\n",
              "    <tr>\n",
              "      <th>0</th>\n",
              "      <td>Wayona Nylon Braided USB to Lightning Fast Cha...</td>\n",
              "      <td>1099.0</td>\n",
              "      <td>399.0</td>\n",
              "      <td>63.694268</td>\n",
              "    </tr>\n",
              "    <tr>\n",
              "      <th>1</th>\n",
              "      <td>Wayona Nylon Braided USB to Lightning Fast Cha...</td>\n",
              "      <td>1099.0</td>\n",
              "      <td>399.0</td>\n",
              "      <td>63.694268</td>\n",
              "    </tr>\n",
              "    <tr>\n",
              "      <th>2</th>\n",
              "      <td>Wayona Nylon Braided USB to Lightning Fast Cha...</td>\n",
              "      <td>1099.0</td>\n",
              "      <td>399.0</td>\n",
              "      <td>63.694268</td>\n",
              "    </tr>\n",
              "    <tr>\n",
              "      <th>3</th>\n",
              "      <td>Ambrane Unbreakable 60W / 3A Fast Charging 1.5...</td>\n",
              "      <td>349.0</td>\n",
              "      <td>199.0</td>\n",
              "      <td>42.979943</td>\n",
              "    </tr>\n",
              "    <tr>\n",
              "      <th>4</th>\n",
              "      <td>Ambrane Unbreakable 60W / 3A Fast Charging 1.5...</td>\n",
              "      <td>349.0</td>\n",
              "      <td>199.0</td>\n",
              "      <td>42.979943</td>\n",
              "    </tr>\n",
              "  </tbody>\n",
              "</table>\n",
              "</div>"
            ],
            "text/plain": [
              "                                        product_name  actual_price  \\\n",
              "0  Wayona Nylon Braided USB to Lightning Fast Cha...        1099.0   \n",
              "1  Wayona Nylon Braided USB to Lightning Fast Cha...        1099.0   \n",
              "2  Wayona Nylon Braided USB to Lightning Fast Cha...        1099.0   \n",
              "3  Ambrane Unbreakable 60W / 3A Fast Charging 1.5...         349.0   \n",
              "4  Ambrane Unbreakable 60W / 3A Fast Charging 1.5...         349.0   \n",
              "\n",
              "   discounted_price  calculated_discount  \n",
              "0             399.0            63.694268  \n",
              "1             399.0            63.694268  \n",
              "2             399.0            63.694268  \n",
              "3             199.0            42.979943  \n",
              "4             199.0            42.979943  "
            ]
          },
          "execution_count": 25,
          "metadata": {},
          "output_type": "execute_result"
        }
      ],
      "source": [
        "print(\"Products DataFrame with Calculated Discounts:\")\n",
        "df[['product_name', 'actual_price', 'discounted_price', 'calculated_discount']].head()"
      ]
    },
    {
      "cell_type": "code",
      "execution_count": 26,
      "metadata": {
        "colab": {
          "base_uri": "https://localhost:8080/"
        },
        "id": "JnC9D-co8ETF",
        "outputId": "402c638a-a1cc-4751-d3ed-dac5ff92f27f"
      },
      "outputs": [
        {
          "data": {
            "text/plain": [
              "array([4.2, 4. , 3.9, 4.1, 4.3, nan, 4.4, 4.5, 3.7, 3.3, 3.6, 3.4, 3.8,\n",
              "       3.5, 4.6, 3.2, 5. , 4.7, 3. , 2.8, 3.1, 4.8, 2.3, 2. , 2.6, 2.9])"
            ]
          },
          "execution_count": 26,
          "metadata": {},
          "output_type": "execute_result"
        }
      ],
      "source": [
        "df['rating'].unique()"
      ]
    },
    {
      "cell_type": "code",
      "execution_count": 27,
      "metadata": {
        "id": "S4H3fyXf8NY6"
      },
      "outputs": [],
      "source": [
        "# Define aggregate functions to calculate max and min\n",
        "def max_rating(series):\n",
        "    return series.max()\n",
        "\n",
        "def min_rating_count(series):\n",
        "    return series.min()"
      ]
    },
    {
      "cell_type": "code",
      "execution_count": 28,
      "metadata": {
        "colab": {
          "base_uri": "https://localhost:8080/",
          "height": 112
        },
        "id": "BiFivl3B88T6",
        "outputId": "8ff54d0e-e74a-4e90-b063-4e2aaf103b68"
      },
      "outputs": [
        {
          "data": {
            "text/html": [
              "<div>\n",
              "<style scoped>\n",
              "    .dataframe tbody tr th:only-of-type {\n",
              "        vertical-align: middle;\n",
              "    }\n",
              "\n",
              "    .dataframe tbody tr th {\n",
              "        vertical-align: top;\n",
              "    }\n",
              "\n",
              "    .dataframe thead th {\n",
              "        text-align: right;\n",
              "    }\n",
              "</style>\n",
              "<table border=\"1\" class=\"dataframe\">\n",
              "  <thead>\n",
              "    <tr style=\"text-align: right;\">\n",
              "      <th></th>\n",
              "      <th>rating</th>\n",
              "      <th>rating_count</th>\n",
              "    </tr>\n",
              "  </thead>\n",
              "  <tbody>\n",
              "    <tr>\n",
              "      <th>max_rating</th>\n",
              "      <td>5.0</td>\n",
              "      <td>426973.0</td>\n",
              "    </tr>\n",
              "    <tr>\n",
              "      <th>min_rating_count</th>\n",
              "      <td>2.0</td>\n",
              "      <td>2.0</td>\n",
              "    </tr>\n",
              "  </tbody>\n",
              "</table>\n",
              "</div>"
            ],
            "text/plain": [
              "                  rating  rating_count\n",
              "max_rating           5.0      426973.0\n",
              "min_rating_count     2.0           2.0"
            ]
          },
          "execution_count": 28,
          "metadata": {},
          "output_type": "execute_result"
        }
      ],
      "source": [
        "products[['rating', 'rating_count']].apply([max_rating, min_rating_count])"
      ]
    },
    {
      "cell_type": "markdown",
      "metadata": {
        "id": "QUiCFTvg9gmv"
      },
      "source": [
        "<img src=\"https://learning.oreilly.com/api/v2/epubs/urn:orm:book:9781491912126/files/assets/pyds_03in01.png\" height=\"350\" width=\"700\"/>\n"
      ]
    },
    {
      "cell_type": "code",
      "execution_count": 29,
      "metadata": {
        "colab": {
          "base_uri": "https://localhost:8080/",
          "height": 486
        },
        "id": "i6XU1FKx9Aea",
        "outputId": "041e20cf-aada-4c5e-cb4d-32ef03f950dd"
      },
      "outputs": [
        {
          "data": {
            "text/html": [
              "<div>\n",
              "<style scoped>\n",
              "    .dataframe tbody tr th:only-of-type {\n",
              "        vertical-align: middle;\n",
              "    }\n",
              "\n",
              "    .dataframe tbody tr th {\n",
              "        vertical-align: top;\n",
              "    }\n",
              "\n",
              "    .dataframe thead th {\n",
              "        text-align: right;\n",
              "    }\n",
              "</style>\n",
              "<table border=\"1\" class=\"dataframe\">\n",
              "  <thead>\n",
              "    <tr style=\"text-align: right;\">\n",
              "      <th></th>\n",
              "      <th>product_id</th>\n",
              "      <th>user_id</th>\n",
              "      <th>user_name</th>\n",
              "      <th>review_id</th>\n",
              "      <th>review_title</th>\n",
              "      <th>review_content</th>\n",
              "      <th>order_timestamp</th>\n",
              "      <th>product_name</th>\n",
              "      <th>category</th>\n",
              "      <th>discounted_price</th>\n",
              "      <th>actual_price</th>\n",
              "      <th>rating</th>\n",
              "      <th>rating_count</th>\n",
              "      <th>about_product</th>\n",
              "      <th>img_link</th>\n",
              "      <th>product_link</th>\n",
              "      <th>review_title_uppercase</th>\n",
              "      <th>calculated_discount</th>\n",
              "    </tr>\n",
              "  </thead>\n",
              "  <tbody>\n",
              "    <tr>\n",
              "      <th>0</th>\n",
              "      <td>B07JW9H4J1</td>\n",
              "      <td>AG3D6O4STAQKAY2UVGEUV46KN35Q,AHMY5CWJMMK5BJRBB...</td>\n",
              "      <td>Manav,Adarsh gupta,Sundeep,S.Sayeed Ahmed,jasp...</td>\n",
              "      <td>R3HXWT0LRP0NMF,R2AJM3LFTLZHFO,R6AQJGUP6P86,R1K...</td>\n",
              "      <td>Satisfied,Charging is really fast,Value for mo...</td>\n",
              "      <td>Looks durable Charging is fine tooNo complains...</td>\n",
              "      <td>2023-01-01 00:00:00.000000000</td>\n",
              "      <td>Wayona Nylon Braided USB to Lightning Fast Cha...</td>\n",
              "      <td>Computers&amp;Accessories</td>\n",
              "      <td>399.0</td>\n",
              "      <td>1099.0</td>\n",
              "      <td>4.2</td>\n",
              "      <td>24269.0</td>\n",
              "      <td>High Compatibility : Compatible With iPhone 12...</td>\n",
              "      <td>https://m.media-amazon.com/images/W/WEBP_40237...</td>\n",
              "      <td>https://www.amazon.in/Wayona-Braided-WN3LG1-Sy...</td>\n",
              "      <td>SATISFIED,CHARGING IS REALLY FAST,VALUE FOR MO...</td>\n",
              "      <td>63.694268</td>\n",
              "    </tr>\n",
              "    <tr>\n",
              "      <th>1</th>\n",
              "      <td>B07JW9H4J1</td>\n",
              "      <td>AG3D6O4STAQKAY2UVGEUV46KN35Q,AHMY5CWJMMK5BJRBB...</td>\n",
              "      <td>Manav,Adarsh gupta,Sundeep,S.Sayeed Ahmed,jasp...</td>\n",
              "      <td>R3HXWT0LRP0NMF,R2AJM3LFTLZHFO,R6AQJGUP6P86,R1K...</td>\n",
              "      <td>Satisfied,Charging is really fast,Value for mo...</td>\n",
              "      <td>Looks durable Charging is fine tooNo complains...</td>\n",
              "      <td>2023-01-01 00:00:00.000000000</td>\n",
              "      <td>Wayona Nylon Braided USB to Lightning Fast Cha...</td>\n",
              "      <td>Computers&amp;Accessories</td>\n",
              "      <td>399.0</td>\n",
              "      <td>1099.0</td>\n",
              "      <td>4.2</td>\n",
              "      <td>24270.0</td>\n",
              "      <td>High Compatibility : Compatible With iPhone 12...</td>\n",
              "      <td>https://m.media-amazon.com/images/I/51UsScvHQN...</td>\n",
              "      <td>https://www.amazon.in/Wayona-Braided-WN3LG1-Sy...</td>\n",
              "      <td>SATISFIED,CHARGING IS REALLY FAST,VALUE FOR MO...</td>\n",
              "      <td>63.694268</td>\n",
              "    </tr>\n",
              "    <tr>\n",
              "      <th>2</th>\n",
              "      <td>B07JW9H4J1</td>\n",
              "      <td>AG3D6O4STAQKAY2UVGEUV46KN35Q,AHMY5CWJMMK5BJRBB...</td>\n",
              "      <td>Manav,Adarsh gupta,Sundeep,S.Sayeed Ahmed,jasp...</td>\n",
              "      <td>R3HXWT0LRP0NMF,R2AJM3LFTLZHFO,R6AQJGUP6P86,R1K...</td>\n",
              "      <td>Satisfied,Charging is really fast,Value for mo...</td>\n",
              "      <td>Looks durable Charging is fine tooNo complains...</td>\n",
              "      <td>2023-01-01 00:00:00.000000000</td>\n",
              "      <td>Wayona Nylon Braided USB to Lightning Fast Cha...</td>\n",
              "      <td>Computers&amp;Accessories</td>\n",
              "      <td>399.0</td>\n",
              "      <td>1099.0</td>\n",
              "      <td>4.2</td>\n",
              "      <td>24269.0</td>\n",
              "      <td>High Compatibility : Compatible With iPhone 12...</td>\n",
              "      <td>https://m.media-amazon.com/images/W/WEBP_40237...</td>\n",
              "      <td>https://www.amazon.in/Wayona-Braided-WN3LG1-Sy...</td>\n",
              "      <td>SATISFIED,CHARGING IS REALLY FAST,VALUE FOR MO...</td>\n",
              "      <td>63.694268</td>\n",
              "    </tr>\n",
              "    <tr>\n",
              "      <th>3</th>\n",
              "      <td>B098NS6PVG</td>\n",
              "      <td>AECPFYFQVRUWC3KGNLJIOREFP5LQ,AGYYVPDD7YG7FYNBX...</td>\n",
              "      <td>ArdKn,Nirbhay kumar,Sagar Viswanathan,Asp,Plac...</td>\n",
              "      <td>RGIQEG07R9HS2,R1SMWZQ86XIN8U,R2J3Y1WL29GWDE,RY...</td>\n",
              "      <td>A Good Braided Cable for Your Type C Device,Go...</td>\n",
              "      <td>I ordered this cable to connect my phone to An...</td>\n",
              "      <td>2023-01-01 05:58:01.967213114</td>\n",
              "      <td>Ambrane Unbreakable 60W / 3A Fast Charging 1.5...</td>\n",
              "      <td>Computers&amp;Accessories</td>\n",
              "      <td>199.0</td>\n",
              "      <td>349.0</td>\n",
              "      <td>4.0</td>\n",
              "      <td>43994.0</td>\n",
              "      <td>Compatible with all Type C enabled devices, be...</td>\n",
              "      <td>https://m.media-amazon.com/images/W/WEBP_40237...</td>\n",
              "      <td>https://www.amazon.in/Ambrane-Unbreakable-Char...</td>\n",
              "      <td>A GOOD BRAIDED CABLE FOR YOUR TYPE C DEVICE,GO...</td>\n",
              "      <td>42.979943</td>\n",
              "    </tr>\n",
              "    <tr>\n",
              "      <th>4</th>\n",
              "      <td>B098NS6PVG</td>\n",
              "      <td>AECPFYFQVRUWC3KGNLJIOREFP5LQ,AGYYVPDD7YG7FYNBX...</td>\n",
              "      <td>ArdKn,Nirbhay kumar,Sagar Viswanathan,Asp,Plac...</td>\n",
              "      <td>RGIQEG07R9HS2,R1SMWZQ86XIN8U,R2J3Y1WL29GWDE,RY...</td>\n",
              "      <td>A Good Braided Cable for Your Type C Device,Go...</td>\n",
              "      <td>I ordered this cable to connect my phone to An...</td>\n",
              "      <td>2023-01-01 05:58:01.967213114</td>\n",
              "      <td>Ambrane Unbreakable 60W / 3A Fast Charging 1.5...</td>\n",
              "      <td>Computers&amp;Accessories</td>\n",
              "      <td>199.0</td>\n",
              "      <td>349.0</td>\n",
              "      <td>4.0</td>\n",
              "      <td>43993.0</td>\n",
              "      <td>Compatible with all Type C enabled devices, be...</td>\n",
              "      <td>https://m.media-amazon.com/images/I/31zOsqQOAO...</td>\n",
              "      <td>https://www.amazon.in/Ambrane-Unbreakable-Char...</td>\n",
              "      <td>A GOOD BRAIDED CABLE FOR YOUR TYPE C DEVICE,GO...</td>\n",
              "      <td>42.979943</td>\n",
              "    </tr>\n",
              "  </tbody>\n",
              "</table>\n",
              "</div>"
            ],
            "text/plain": [
              "   product_id                                            user_id  \\\n",
              "0  B07JW9H4J1  AG3D6O4STAQKAY2UVGEUV46KN35Q,AHMY5CWJMMK5BJRBB...   \n",
              "1  B07JW9H4J1  AG3D6O4STAQKAY2UVGEUV46KN35Q,AHMY5CWJMMK5BJRBB...   \n",
              "2  B07JW9H4J1  AG3D6O4STAQKAY2UVGEUV46KN35Q,AHMY5CWJMMK5BJRBB...   \n",
              "3  B098NS6PVG  AECPFYFQVRUWC3KGNLJIOREFP5LQ,AGYYVPDD7YG7FYNBX...   \n",
              "4  B098NS6PVG  AECPFYFQVRUWC3KGNLJIOREFP5LQ,AGYYVPDD7YG7FYNBX...   \n",
              "\n",
              "                                           user_name  \\\n",
              "0  Manav,Adarsh gupta,Sundeep,S.Sayeed Ahmed,jasp...   \n",
              "1  Manav,Adarsh gupta,Sundeep,S.Sayeed Ahmed,jasp...   \n",
              "2  Manav,Adarsh gupta,Sundeep,S.Sayeed Ahmed,jasp...   \n",
              "3  ArdKn,Nirbhay kumar,Sagar Viswanathan,Asp,Plac...   \n",
              "4  ArdKn,Nirbhay kumar,Sagar Viswanathan,Asp,Plac...   \n",
              "\n",
              "                                           review_id  \\\n",
              "0  R3HXWT0LRP0NMF,R2AJM3LFTLZHFO,R6AQJGUP6P86,R1K...   \n",
              "1  R3HXWT0LRP0NMF,R2AJM3LFTLZHFO,R6AQJGUP6P86,R1K...   \n",
              "2  R3HXWT0LRP0NMF,R2AJM3LFTLZHFO,R6AQJGUP6P86,R1K...   \n",
              "3  RGIQEG07R9HS2,R1SMWZQ86XIN8U,R2J3Y1WL29GWDE,RY...   \n",
              "4  RGIQEG07R9HS2,R1SMWZQ86XIN8U,R2J3Y1WL29GWDE,RY...   \n",
              "\n",
              "                                        review_title  \\\n",
              "0  Satisfied,Charging is really fast,Value for mo...   \n",
              "1  Satisfied,Charging is really fast,Value for mo...   \n",
              "2  Satisfied,Charging is really fast,Value for mo...   \n",
              "3  A Good Braided Cable for Your Type C Device,Go...   \n",
              "4  A Good Braided Cable for Your Type C Device,Go...   \n",
              "\n",
              "                                      review_content  \\\n",
              "0  Looks durable Charging is fine tooNo complains...   \n",
              "1  Looks durable Charging is fine tooNo complains...   \n",
              "2  Looks durable Charging is fine tooNo complains...   \n",
              "3  I ordered this cable to connect my phone to An...   \n",
              "4  I ordered this cable to connect my phone to An...   \n",
              "\n",
              "                 order_timestamp  \\\n",
              "0  2023-01-01 00:00:00.000000000   \n",
              "1  2023-01-01 00:00:00.000000000   \n",
              "2  2023-01-01 00:00:00.000000000   \n",
              "3  2023-01-01 05:58:01.967213114   \n",
              "4  2023-01-01 05:58:01.967213114   \n",
              "\n",
              "                                        product_name               category  \\\n",
              "0  Wayona Nylon Braided USB to Lightning Fast Cha...  Computers&Accessories   \n",
              "1  Wayona Nylon Braided USB to Lightning Fast Cha...  Computers&Accessories   \n",
              "2  Wayona Nylon Braided USB to Lightning Fast Cha...  Computers&Accessories   \n",
              "3  Ambrane Unbreakable 60W / 3A Fast Charging 1.5...  Computers&Accessories   \n",
              "4  Ambrane Unbreakable 60W / 3A Fast Charging 1.5...  Computers&Accessories   \n",
              "\n",
              "   discounted_price  actual_price  rating  rating_count  \\\n",
              "0             399.0        1099.0     4.2       24269.0   \n",
              "1             399.0        1099.0     4.2       24270.0   \n",
              "2             399.0        1099.0     4.2       24269.0   \n",
              "3             199.0         349.0     4.0       43994.0   \n",
              "4             199.0         349.0     4.0       43993.0   \n",
              "\n",
              "                                       about_product  \\\n",
              "0  High Compatibility : Compatible With iPhone 12...   \n",
              "1  High Compatibility : Compatible With iPhone 12...   \n",
              "2  High Compatibility : Compatible With iPhone 12...   \n",
              "3  Compatible with all Type C enabled devices, be...   \n",
              "4  Compatible with all Type C enabled devices, be...   \n",
              "\n",
              "                                            img_link  \\\n",
              "0  https://m.media-amazon.com/images/W/WEBP_40237...   \n",
              "1  https://m.media-amazon.com/images/I/51UsScvHQN...   \n",
              "2  https://m.media-amazon.com/images/W/WEBP_40237...   \n",
              "3  https://m.media-amazon.com/images/W/WEBP_40237...   \n",
              "4  https://m.media-amazon.com/images/I/31zOsqQOAO...   \n",
              "\n",
              "                                        product_link  \\\n",
              "0  https://www.amazon.in/Wayona-Braided-WN3LG1-Sy...   \n",
              "1  https://www.amazon.in/Wayona-Braided-WN3LG1-Sy...   \n",
              "2  https://www.amazon.in/Wayona-Braided-WN3LG1-Sy...   \n",
              "3  https://www.amazon.in/Ambrane-Unbreakable-Char...   \n",
              "4  https://www.amazon.in/Ambrane-Unbreakable-Char...   \n",
              "\n",
              "                              review_title_uppercase  calculated_discount  \n",
              "0  SATISFIED,CHARGING IS REALLY FAST,VALUE FOR MO...            63.694268  \n",
              "1  SATISFIED,CHARGING IS REALLY FAST,VALUE FOR MO...            63.694268  \n",
              "2  SATISFIED,CHARGING IS REALLY FAST,VALUE FOR MO...            63.694268  \n",
              "3  A GOOD BRAIDED CABLE FOR YOUR TYPE C DEVICE,GO...            42.979943  \n",
              "4  A GOOD BRAIDED CABLE FOR YOUR TYPE C DEVICE,GO...            42.979943  "
            ]
          },
          "execution_count": 29,
          "metadata": {},
          "output_type": "execute_result"
        }
      ],
      "source": [
        "df.head()"
      ]
    },
    {
      "cell_type": "code",
      "execution_count": 30,
      "metadata": {
        "colab": {
          "base_uri": "https://localhost:8080/",
          "height": 397
        },
        "id": "8Xm_5KV4-U12",
        "outputId": "4beed01e-8337-431d-9686-ff0be1e3094a"
      },
      "outputs": [
        {
          "data": {
            "text/plain": [
              "category\n",
              "Car&Motorbike            41.525000\n",
              "Computers&Accessories    55.374270\n",
              "Electronics              52.152439\n",
              "Health&PersonalCare      52.684211\n",
              "Home&Kitchen             40.241448\n",
              "HomeImprovement          57.944088\n",
              "MusicalInstruments       45.808298\n",
              "OfficeProducts           12.771811\n",
              "Toys&Games                0.000000\n",
              "Name: calculated_discount, dtype: float64"
            ]
          },
          "execution_count": 30,
          "metadata": {},
          "output_type": "execute_result"
        }
      ],
      "source": [
        "df.groupby('category')['calculated_discount'].mean()"
      ]
    },
    {
      "cell_type": "code",
      "execution_count": 37,
      "metadata": {
        "id": "tJpw0QqB-Zrl"
      },
      "outputs": [
        {
          "data": {
            "text/plain": [
              "category\n",
              "Computers&Accessories    4.158934\n",
              "Electronics              4.090508\n",
              "Health&PersonalCare      4.000000\n",
              "Home&Kitchen             4.045890\n",
              "HomeImprovement          4.250000\n",
              "OfficeProducts           4.309677\n",
              "Toys&Games               4.300000\n",
              "Name: rating, dtype: float64"
            ]
          },
          "execution_count": 37,
          "metadata": {},
          "output_type": "execute_result"
        }
      ],
      "source": [
        "df.groupby('category')['rating'].mean().loc[lambda x : x >= 4]"
      ]
    },
    {
      "cell_type": "code",
      "execution_count": null,
      "metadata": {},
      "outputs": [],
      "source": [
        "df.groupby()"
      ]
    }
  ],
  "metadata": {
    "colab": {
      "provenance": []
    },
    "kernelspec": {
      "display_name": "tensorflow",
      "language": "python",
      "name": "python3"
    },
    "language_info": {
      "codemirror_mode": {
        "name": "ipython",
        "version": 3
      },
      "file_extension": ".py",
      "mimetype": "text/x-python",
      "name": "python",
      "nbconvert_exporter": "python",
      "pygments_lexer": "ipython3",
      "version": "3.11.9"
    }
  },
  "nbformat": 4,
  "nbformat_minor": 0
}
